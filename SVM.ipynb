{
 "cells": [
  {
   "cell_type": "code",
   "execution_count": 1,
   "id": "be383021-ca8d-4984-a25d-8a96295c6f9b",
   "metadata": {},
   "outputs": [],
   "source": [
    "import pandas as pd\n",
    "import numpy as np"
   ]
  },
  {
   "cell_type": "code",
   "execution_count": 2,
   "id": "3b5a5f67-c882-43ad-9881-085dde00c69c",
   "metadata": {},
   "outputs": [],
   "source": [
    "imputed=pd.read_csv (r'C:\\Users\\Manos\\OneDrive/Thesis Final/LSTM/all_nurse_with_FI_imputed.tab',sep='\\t',low_memory=False)"
   ]
  },
  {
   "cell_type": "code",
   "execution_count": 3,
   "id": "63fdf91e-7e08-4080-b5de-3b4ba8c355c4",
   "metadata": {},
   "outputs": [],
   "source": [
    "X=imputed.iloc[:,1:-1] #we dont select idauniq\n",
    "y=imputed.iloc[:,-1]\n",
    "from sklearn.model_selection import train_test_split\n",
    "X_train, X_test, y_train, y_test= train_test_split(X, y, random_state=32)"
   ]
  },
  {
   "cell_type": "code",
   "execution_count": 4,
   "id": "a514b572-40ab-4ff0-9a56-66debee54eca",
   "metadata": {},
   "outputs": [
    {
     "data": {
      "text/plain": [
       "SVR()"
      ]
     },
     "execution_count": 4,
     "metadata": {},
     "output_type": "execute_result"
    }
   ],
   "source": [
    "from sklearn.svm import SVR\n",
    "regressor = SVR(kernel = 'rbf')\n",
    "regressor.fit(X_train, y_train)"
   ]
  },
  {
   "cell_type": "code",
   "execution_count": 5,
   "id": "3dab5381-e212-452b-bc86-7cc708424c06",
   "metadata": {},
   "outputs": [],
   "source": [
    "y_pred=regressor.predict(X_test)#dont include idauniq"
   ]
  },
  {
   "cell_type": "code",
   "execution_count": 6,
   "id": "3d34c976-6da8-4c49-89aa-fa81483ca40a",
   "metadata": {},
   "outputs": [
    {
     "name": "stdout",
     "output_type": "stream",
     "text": [
      "MSE: 0.013\n",
      "MAE: 0.087\n",
      "MAPE: 29208295057826.336\n",
      "r2: 0.198\n",
      "adjr2: 0.197\n"
     ]
    }
   ],
   "source": [
    "from sklearn.metrics import mean_absolute_error, r2_score, mean_absolute_percentage_error,mean_squared_error\n",
    "mse=mean_squared_error(y_test, y_pred)\n",
    "mae = mean_absolute_error(y_test, y_pred)\n",
    "mape = mean_absolute_percentage_error(y_test, y_pred)\n",
    "r2=r2_score(y_test, y_pred)\n",
    "adjr2=1-(((1-r2)*(len(y)-1))/((len(y)-X.shape[1]-1)))\n",
    "print('MSE: %.3f' % mse)\n",
    "print('MAE: %.3f' % mae)\n",
    "print('MAPE: %.3f' % mape)\n",
    "print('r2: %.3f' % r2)\n",
    "print('adjr2: %.3f' % adjr2)"
   ]
  },
  {
   "cell_type": "code",
   "execution_count": 7,
   "id": "45419440-43c7-4bd5-a2e0-7a67e1d395dd",
   "metadata": {},
   "outputs": [],
   "source": [
    "LSTM_prediction=pd.read_csv (r'C:\\Users\\Manos\\Desktop\\Lstm Prediction',sep='\\t',low_memory=False)"
   ]
  },
  {
   "cell_type": "code",
   "execution_count": 8,
   "id": "771a3da7-4171-4400-8ca5-c6c6f09ca2bd",
   "metadata": {},
   "outputs": [],
   "source": [
    "FI_from_LSTM=regressor.predict(LSTM_prediction.iloc[:,1:])#"
   ]
  },
  {
   "cell_type": "code",
   "execution_count": 9,
   "id": "c9f677b1-c6d0-44a2-8c43-0b2002c71acd",
   "metadata": {},
   "outputs": [],
   "source": [
    "FI_from_LSTM= pd.DataFrame(FI_from_LSTM, columns = ['FI'])\n",
    "FI_from_LSTM.insert(0,'idauniq',LSTM_prediction.iloc[:,0])\n",
    "FI_from_LSTM.to_csv(r'C:\\Users\\Manos\\Desktop\\SVM_FI_LSTM',sep='\\t',index=False)"
   ]
  },
  {
   "cell_type": "code",
   "execution_count": null,
   "id": "7ded0fe9-1b4f-40d4-8603-dbc6b7ca446b",
   "metadata": {},
   "outputs": [],
   "source": []
  },
  {
   "cell_type": "code",
   "execution_count": null,
   "id": "20219cbb-29a3-4699-9d2b-a2b91042a485",
   "metadata": {},
   "outputs": [],
   "source": []
  },
  {
   "cell_type": "code",
   "execution_count": null,
   "id": "b3032c88-0f1e-45f5-836f-157e6833499e",
   "metadata": {},
   "outputs": [],
   "source": []
  }
 ],
 "metadata": {
  "kernelspec": {
   "display_name": "Python 3 (ipykernel)",
   "language": "python",
   "name": "python3"
  },
  "language_info": {
   "codemirror_mode": {
    "name": "ipython",
    "version": 3
   },
   "file_extension": ".py",
   "mimetype": "text/x-python",
   "name": "python",
   "nbconvert_exporter": "python",
   "pygments_lexer": "ipython3",
   "version": "3.9.7"
  }
 },
 "nbformat": 4,
 "nbformat_minor": 5
}
