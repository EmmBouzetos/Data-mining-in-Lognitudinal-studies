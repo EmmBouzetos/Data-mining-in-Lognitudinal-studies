{
 "cells": [
  {
   "cell_type": "code",
   "execution_count": 1,
   "id": "4ec18e66-0dbe-45a9-b7ff-a0cc596a22d0",
   "metadata": {},
   "outputs": [],
   "source": [
    "import pandas as pd\n",
    "import matplotlib.pyplot as plt\n",
    "import numpy as np\n",
    "from sklearn import datasets, ensemble\n",
    "from sklearn.inspection import permutation_importance\n",
    "from sklearn.metrics import mean_squared_error\n",
    "from sklearn.model_selection import train_test_split"
   ]
  },
  {
   "cell_type": "code",
   "execution_count": 2,
   "id": "64f5d3a2-08a3-4449-ab61-c0f434f239e8",
   "metadata": {},
   "outputs": [],
   "source": [
    "imputed=pd.read_csv (r'C:\\Users\\Manos\\OneDrive/Thesis Final/LSTM/all_nurse_with_FI_imputed.tab',sep='\\t',low_memory=False)"
   ]
  },
  {
   "cell_type": "code",
   "execution_count": 3,
   "id": "e289a022-063c-49cd-9181-7988d33bb710",
   "metadata": {},
   "outputs": [],
   "source": [
    "X=imputed.iloc[:,1:-1] #we dont select idauniq\n",
    "y=imputed.iloc[:,-1]\n",
    "from sklearn.model_selection import train_test_split\n",
    "X_train, X_test, y_train, y_test= train_test_split(X, y, random_state=32)"
   ]
  },
  {
   "cell_type": "code",
   "execution_count": 4,
   "id": "556c003a-802a-4549-8f27-f985a6439f1f",
   "metadata": {},
   "outputs": [],
   "source": [
    "params = {\n",
    "    \"n_estimators\": 500,\n",
    "    \"max_depth\": 4,\n",
    "    \"min_samples_split\": 5,\n",
    "    \"learning_rate\": 0.01,\n",
    "    \"loss\": \"squared_error\",\n",
    "}"
   ]
  },
  {
   "cell_type": "code",
   "execution_count": 5,
   "id": "083f8e8b-efcc-4382-94b1-e59fd0c9fb6a",
   "metadata": {},
   "outputs": [
    {
     "data": {
      "text/plain": [
       "GradientBoostingRegressor(learning_rate=0.01, max_depth=4, min_samples_split=5,\n",
       "                          n_estimators=500)"
      ]
     },
     "execution_count": 5,
     "metadata": {},
     "output_type": "execute_result"
    }
   ],
   "source": [
    "reg = ensemble.GradientBoostingRegressor(**params)\n",
    "reg.fit(X_train, y_train)"
   ]
  },
  {
   "cell_type": "markdown",
   "id": "1a00ac3b-4fd9-4ca9-a9e1-273775b4c3d6",
   "metadata": {},
   "source": [
    "Visualize results"
   ]
  },
  {
   "cell_type": "code",
   "execution_count": 6,
   "id": "573518a1-3314-4c3c-9869-50bed406927b",
   "metadata": {},
   "outputs": [
    {
     "data": {
      "image/png": "[encoded data removed]",
      "text/plain": [
       "<Figure size 432x432 with 1 Axes>"
      ]
     },
     "metadata": {
      "needs_background": "light"
     },
     "output_type": "display_data"
    }
   ],
   "source": [
    "test_score = np.zeros((params[\"n_estimators\"],), dtype=np.float64)\n",
    "for i, y_pred in enumerate(reg.staged_predict(X_test)):\n",
    "    test_score[i] = reg.loss_(y_test, y_pred)\n",
    "\n",
    "fig = plt.figure(figsize=(6, 6))\n",
    "plt.subplot(1, 1, 1)\n",
    "plt.title(\"Deviance\")\n",
    "plt.plot(\n",
    "    np.arange(params[\"n_estimators\"]) + 1,\n",
    "    reg.train_score_,\n",
    "    \"b-\",\n",
    "    label=\"Training Set Deviance\",\n",
    ")\n",
    "plt.plot(\n",
    "    np.arange(params[\"n_estimators\"]) + 1, test_score, \"r-\", label=\"Test Set Deviance\"\n",
    ")\n",
    "plt.legend(loc=\"upper right\")\n",
    "plt.xlabel(\"Boosting Iterations\")\n",
    "plt.ylabel(\"Deviance\")\n",
    "fig.tight_layout()\n",
    "plt.show()"
   ]
  },
  {
   "cell_type": "code",
   "execution_count": 7,
   "id": "2cea58cb-6ea0-48a9-aad2-f11546d898c0",
   "metadata": {},
   "outputs": [
    {
     "name": "stdout",
     "output_type": "stream",
     "text": [
      "MSE: 0.012\n",
      "MAE: 0.081\n",
      "MAPE: 23205162234105.109\n",
      "r2: 0.250\n",
      "adjr2: 0.250\n"
     ]
    }
   ],
   "source": [
    "from sklearn.metrics import mean_absolute_error, r2_score, mean_absolute_percentage_error,mean_squared_error\n",
    "mse=mean_squared_error(y_test, y_pred)\n",
    "mae = mean_absolute_error(y_test, y_pred)\n",
    "mape = mean_absolute_percentage_error(y_test, y_pred)\n",
    "r2=r2_score(y_test, y_pred)\n",
    "adjr2=1-(((1-r2)*(len(y)-1))/((len(y)-X.shape[1]-1)))\n",
    "print('MSE: %.3f' % mse)\n",
    "print('MAE: %.3f' % mae)\n",
    "print('MAPE: %.3f' % mape)\n",
    "print('r2: %.3f' % r2)\n",
    "print('adjr2: %.3f' % adjr2)"
   ]
  },
  {
   "cell_type": "code",
   "execution_count": 8,
   "id": "c4a146c4-1fb9-4484-86b1-5f0a655feaba",
   "metadata": {},
   "outputs": [],
   "source": [
    "MSE: 0.012\n",
    "MAE: 0.081\n",
    "MAPE: 0.690\n",
    "r2: -2.325\n",
    "adjr2: -2.327"
   ]
  },
  {
   "cell_type": "code",
   "execution_count": 9,
   "id": "112a7bcc-4176-4c01-98e7-21ec84303f5c",
   "metadata": {},
   "outputs": [],
   "source": [
    "LSTM_prediction=pd.read_csv (r'C:\\Users\\Manos\\Desktop\\Lstm Prediction',sep='\\t',low_memory=False)"
   ]
  },
  {
   "cell_type": "code",
   "execution_count": 10,
   "id": "b1cfd4d2-c5eb-4ed3-b9a4-5831ec651e2b",
   "metadata": {},
   "outputs": [],
   "source": [
    "FI_from_LSTM=reg.predict(LSTM_prediction.iloc[:,1:])#"
   ]
  },
  {
   "cell_type": "code",
   "execution_count": 12,
   "id": "43b241a2-ee3c-4c90-89fe-257a2b31f8fd",
   "metadata": {},
   "outputs": [],
   "source": [
    "FI_from_LSTM= pd.DataFrame(FI_from_LSTM, columns = ['FI'])\n",
    "FI_from_LSTM.insert(0,'idauniq',LSTM_prediction.iloc[:,0])\n",
    "FI_from_LSTM.to_csv(r'C:\\Users\\Manos\\Desktop\\GBDT_FI_LSTM',sep='\\t',index=False)"
   ]
  },
  {
   "cell_type": "code",
   "execution_count": null,
   "id": "89750b17-063a-4ac2-9e69-493f9197815e",
   "metadata": {},
   "outputs": [],
   "source": []
  }
 ],
 "metadata": {
  "kernelspec": {
   "display_name": "Python 3 (ipykernel)",
   "language": "python",
   "name": "python3"
  },
  "language_info": {
   "codemirror_mode": {
    "name": "ipython",
    "version": 3
   },
   "file_extension": ".py",
   "mimetype": "text/x-python",
   "name": "python",
   "nbconvert_exporter": "python",
   "pygments_lexer": "ipython3",
   "version": "3.9.7"
  }
 },
 "nbformat": 4,
 "nbformat_minor": 5
}
