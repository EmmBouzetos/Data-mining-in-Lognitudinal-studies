{
 "cells": [
  {
   "cell_type": "code",
   "execution_count": 1,
   "id": "26bb5097-55ad-4682-b6ec-44b763266e50",
   "metadata": {},
   "outputs": [],
   "source": [
    "import pandas as pd\n",
    "import numpy as np\n",
    "import pandas\n",
    "import matplotlib.pyplot as plt\n",
    "from keras.models import Sequential\n",
    "from keras.layers import Dense\n",
    "from sklearn import metrics\n",
    "from keras.layers import Dense,Dropout\n",
    "from tensorflow.keras.optimizers import SGD,Adam"
   ]
  },
  {
   "cell_type": "code",
   "execution_count": 2,
   "id": "1bf2a061-a349-49a6-965c-6d20ec376c32",
   "metadata": {},
   "outputs": [],
   "source": [
    "imputed=pd.read_csv (r'C:\\Users\\Manos\\OneDrive/Thesis Final/LSTM/all_nurse_with_FI_imputed.tab',sep='\\t',low_memory=False)"
   ]
  },
  {
   "cell_type": "code",
   "execution_count": 3,
   "id": "d8752d52-7924-4677-a4f7-2227cf50cd97",
   "metadata": {},
   "outputs": [
    {
     "data": {
      "text/plain": [
       "(29912, 26)"
      ]
     },
     "execution_count": 3,
     "metadata": {},
     "output_type": "execute_result"
    }
   ],
   "source": [
    "imputed.shape"
   ]
  },
  {
   "cell_type": "code",
   "execution_count": 4,
   "id": "9cb3bc52-e05e-4808-8578-4472d76deb77",
   "metadata": {},
   "outputs": [
    {
     "data": {
      "text/plain": [
       "MinMaxScaler()"
      ]
     },
     "execution_count": 4,
     "metadata": {},
     "output_type": "execute_result"
    }
   ],
   "source": [
    "from sklearn.preprocessing import MinMaxScaler\n",
    "scaler = MinMaxScaler(feature_range=(0, 1))\n",
    "#dont use it on idauniq\n",
    "scaler.fit(imputed.iloc[:,1:-1])"
   ]
  },
  {
   "cell_type": "code",
   "execution_count": 5,
   "id": "10badb54-cc78-4fdd-b4ec-ca1cd1fba767",
   "metadata": {},
   "outputs": [],
   "source": [
    "scaled=scaler.transform(imputed.iloc[:,1:-1])"
   ]
  },
  {
   "cell_type": "code",
   "execution_count": 6,
   "id": "f9968853-db6c-4c0b-af48-4185bdb32122",
   "metadata": {},
   "outputs": [
    {
     "data": {
      "text/plain": [
       "(29912, 24)"
      ]
     },
     "execution_count": 6,
     "metadata": {},
     "output_type": "execute_result"
    }
   ],
   "source": [
    "scaled.shape"
   ]
  },
  {
   "cell_type": "code",
   "execution_count": 7,
   "id": "bca37fcc-e81c-42c6-8eb1-8346f9ccf8e2",
   "metadata": {},
   "outputs": [
    {
     "data": {
      "text/plain": [
       "(29912, 26)"
      ]
     },
     "execution_count": 7,
     "metadata": {},
     "output_type": "execute_result"
    }
   ],
   "source": [
    "imputed.shape"
   ]
  },
  {
   "cell_type": "code",
   "execution_count": 8,
   "id": "e4b4e95f-8f87-4f60-a3c2-14effa9cf4eb",
   "metadata": {},
   "outputs": [],
   "source": [
    "X=scaled\n",
    "y=imputed.iloc[:,-1]"
   ]
  },
  {
   "cell_type": "code",
   "execution_count": 9,
   "id": "da8e1653-f66b-4786-a967-dc88548b74f4",
   "metadata": {},
   "outputs": [],
   "source": [
    "\n",
    "from sklearn.model_selection import train_test_split\n",
    "X_train, X_test, y_train, y_test= train_test_split(X, y, random_state=32,train_size=0.95)"
   ]
  },
  {
   "cell_type": "code",
   "execution_count": 10,
   "id": "b86350c1-e95d-4de1-936a-03225572cbb3",
   "metadata": {},
   "outputs": [],
   "source": [
    "opt = Adam(learning_rate=0.00005)\n",
    "model = Sequential()\n",
    "model.add(Dense(24,  activation='relu',input_dim=24)) # Hidden 1\n",
    "#model.add(Dropout(0.1))\n",
    "model.add(Dense(5, activation='relu')) # Hidden 2\n",
    "#model.add(Dense(10, activation='relu')) # Hidden 3\n",
    "model.add(Dropout(0.2))\n",
    "model.add(Dense(1)) # Output\n",
    "model.compile(loss='mean_squared_error', optimizer=opt)\n"
   ]
  },
  {
   "cell_type": "code",
   "execution_count": 11,
   "id": "a039a133-23c4-4a32-bf46-5931a679b243",
   "metadata": {},
   "outputs": [
    {
     "name": "stdout",
     "output_type": "stream",
     "text": [
      "Epoch 1/50\n",
      "844/844 [==============================] - 1s 1ms/step - loss: 0.0306 - val_loss: 0.0204\n",
      "Epoch 2/50\n",
      "844/844 [==============================] - 1s 786us/step - loss: 0.0203 - val_loss: 0.0183\n",
      "Epoch 3/50\n",
      "844/844 [==============================] - 1s 783us/step - loss: 0.0183 - val_loss: 0.0169\n",
      "Epoch 4/50\n",
      "844/844 [==============================] - 1s 897us/step - loss: 0.0168 - val_loss: 0.0158\n",
      "Epoch 5/50\n",
      "844/844 [==============================] - 1s 943us/step - loss: 0.0157 - val_loss: 0.0153\n",
      "Epoch 6/50\n",
      "844/844 [==============================] - 1s 934us/step - loss: 0.0152 - val_loss: 0.0151\n",
      "Epoch 7/50\n",
      "844/844 [==============================] - 1s 1ms/step - loss: 0.0149 - val_loss: 0.0149\n",
      "Epoch 8/50\n",
      "844/844 [==============================] - 1s 924us/step - loss: 0.0148 - val_loss: 0.0147\n",
      "Epoch 9/50\n",
      "844/844 [==============================] - 1s 960us/step - loss: 0.0146 - val_loss: 0.0146\n",
      "Epoch 10/50\n",
      "844/844 [==============================] - 1s 1ms/step - loss: 0.0146 - val_loss: 0.0146\n",
      "Epoch 11/50\n",
      "844/844 [==============================] - 1s 967us/step - loss: 0.0144 - val_loss: 0.0144\n",
      "Epoch 12/50\n",
      "844/844 [==============================] - 1s 891us/step - loss: 0.0143 - val_loss: 0.0143\n",
      "Epoch 13/50\n",
      "844/844 [==============================] - 1s 987us/step - loss: 0.0141 - val_loss: 0.0141\n",
      "Epoch 14/50\n",
      "844/844 [==============================] - 1s 922us/step - loss: 0.0141 - val_loss: 0.0141\n",
      "Epoch 15/50\n",
      "844/844 [==============================] - 1s 795us/step - loss: 0.0140 - val_loss: 0.0141\n",
      "Epoch 16/50\n",
      "844/844 [==============================] - 1s 779us/step - loss: 0.0140 - val_loss: 0.0141\n",
      "Epoch 17/50\n",
      "844/844 [==============================] - 1s 910us/step - loss: 0.0140 - val_loss: 0.0140\n",
      "Epoch 18/50\n",
      "844/844 [==============================] - 1s 888us/step - loss: 0.0139 - val_loss: 0.0140\n",
      "Epoch 19/50\n",
      "844/844 [==============================] - 1s 967us/step - loss: 0.0139 - val_loss: 0.0140\n",
      "Epoch 20/50\n",
      "844/844 [==============================] - 1s 1ms/step - loss: 0.0138 - val_loss: 0.0139\n",
      "Epoch 21/50\n",
      "844/844 [==============================] - 1s 885us/step - loss: 0.0138 - val_loss: 0.0139\n",
      "Epoch 22/50\n",
      "844/844 [==============================] - 1s 1ms/step - loss: 0.0137 - val_loss: 0.0139\n",
      "Epoch 23/50\n",
      "844/844 [==============================] - 1s 824us/step - loss: 0.0137 - val_loss: 0.0138\n",
      "Epoch 24/50\n",
      "844/844 [==============================] - 1s 1ms/step - loss: 0.0137 - val_loss: 0.0139\n",
      "Epoch 25/50\n",
      "844/844 [==============================] - 1s 953us/step - loss: 0.0137 - val_loss: 0.0138\n",
      "Epoch 26/50\n",
      "844/844 [==============================] - 1s 969us/step - loss: 0.0137 - val_loss: 0.0138\n",
      "Epoch 27/50\n",
      "844/844 [==============================] - 1s 985us/step - loss: 0.0137 - val_loss: 0.0138\n",
      "Epoch 28/50\n",
      "844/844 [==============================] - 1s 798us/step - loss: 0.0136 - val_loss: 0.0138\n",
      "Epoch 29/50\n",
      "844/844 [==============================] - 1s 910us/step - loss: 0.0137 - val_loss: 0.0138\n",
      "Epoch 30/50\n",
      "844/844 [==============================] - 1s 1ms/step - loss: 0.0136 - val_loss: 0.0138\n",
      "Epoch 31/50\n",
      "844/844 [==============================] - 1s 1ms/step - loss: 0.0137 - val_loss: 0.0137\n",
      "Epoch 32/50\n",
      "844/844 [==============================] - 1s 936us/step - loss: 0.0135 - val_loss: 0.0138\n",
      "Epoch 33/50\n",
      "844/844 [==============================] - 1s 1ms/step - loss: 0.0136 - val_loss: 0.0137\n",
      "Epoch 34/50\n",
      "844/844 [==============================] - 1s 1ms/step - loss: 0.0135 - val_loss: 0.0137\n",
      "Epoch 35/50\n",
      "844/844 [==============================] - 1s 996us/step - loss: 0.0136 - val_loss: 0.0137\n",
      "Epoch 36/50\n",
      "844/844 [==============================] - 1s 1ms/step - loss: 0.0135 - val_loss: 0.0138\n",
      "Epoch 37/50\n",
      "844/844 [==============================] - 1s 1ms/step - loss: 0.0136 - val_loss: 0.0138\n",
      "Epoch 38/50\n",
      "844/844 [==============================] - 1s 1ms/step - loss: 0.0136 - val_loss: 0.0137\n",
      "Epoch 39/50\n",
      "844/844 [==============================] - 1s 1ms/step - loss: 0.0136 - val_loss: 0.0137\n",
      "Epoch 40/50\n",
      "844/844 [==============================] - 1s 902us/step - loss: 0.0135 - val_loss: 0.0137\n",
      "Epoch 41/50\n",
      "844/844 [==============================] - 1s 784us/step - loss: 0.0135 - val_loss: 0.0137\n",
      "Epoch 42/50\n",
      "844/844 [==============================] - 1s 789us/step - loss: 0.0135 - val_loss: 0.0137\n",
      "Epoch 43/50\n",
      "844/844 [==============================] - 1s 909us/step - loss: 0.0135 - val_loss: 0.0136\n",
      "Epoch 44/50\n",
      "844/844 [==============================] - 1s 879us/step - loss: 0.0135 - val_loss: 0.0137\n",
      "Epoch 45/50\n",
      "844/844 [==============================] - 1s 873us/step - loss: 0.0135 - val_loss: 0.0136\n",
      "Epoch 46/50\n",
      "844/844 [==============================] - 1s 1ms/step - loss: 0.0135 - val_loss: 0.0137\n",
      "Epoch 47/50\n",
      "844/844 [==============================] - 1s 848us/step - loss: 0.0134 - val_loss: 0.0137\n",
      "Epoch 48/50\n",
      "844/844 [==============================] - 1s 881us/step - loss: 0.0135 - val_loss: 0.0136\n",
      "Epoch 49/50\n",
      "844/844 [==============================] - 1s 935us/step - loss: 0.0135 - val_loss: 0.0137\n",
      "Epoch 50/50\n",
      "844/844 [==============================] - 1s 1ms/step - loss: 0.0135 - val_loss: 0.0137\n"
     ]
    }
   ],
   "source": [
    "history=model.fit(X_train, y_train, epochs=50,validation_split=0.05)"
   ]
  },
  {
   "cell_type": "code",
   "execution_count": 12,
   "id": "226bda89-2dd9-4ef1-ad9c-e2a7ebc75296",
   "metadata": {},
   "outputs": [
    {
     "data": {
      "text/plain": [
       "<function matplotlib.pyplot.show(close=None, block=None)>"
      ]
     },
     "execution_count": 12,
     "metadata": {},
     "output_type": "execute_result"
    },
    {
     "data": {
      "image/png": "[encoded data removed]",
      "text/plain": [
       "<Figure size 432x288 with 1 Axes>"
      ]
     },
     "metadata": {
      "needs_background": "light"
     },
     "output_type": "display_data"
    }
   ],
   "source": [
    "loss=history.history['loss']\n",
    "val_loss=history.history['val_loss']\n",
    "epochs= range(1,len(loss)+1)\n",
    "plt.plot(epochs, loss, 'y',label='Training Loss')\n",
    "plt.plot(epochs, val_loss, 'r', label='Validation loss')\n",
    "plt.title('Training and validation loss')\n",
    "plt.xlabel('Epochs')\n",
    "plt.ylabel('Loss')\n",
    "plt.legend()\n",
    "plt.savefig(r'C:\\Users\\Manos\\Desktop\\DNN loss Function.png')\n",
    "plt.show"
   ]
  },
  {
   "cell_type": "code",
   "execution_count": 13,
   "id": "67ff7b2c-47f1-4b72-b395-1d3daf28e7de",
   "metadata": {},
   "outputs": [],
   "source": [
    "y_pred = model.predict(X_test)"
   ]
  },
  {
   "cell_type": "code",
   "execution_count": 14,
   "id": "018fe204-e466-466e-a1cf-34ad663d80ac",
   "metadata": {},
   "outputs": [
    {
     "name": "stdout",
     "output_type": "stream",
     "text": [
      "MSE: 0.012\n",
      "MAE: 0.082\n",
      "MAPE: 28061620512342.723\n",
      "r2: 0.189\n",
      "adjr2: 0.188\n"
     ]
    }
   ],
   "source": [
    "from sklearn.metrics import mean_absolute_error, r2_score, mean_absolute_percentage_error,mean_squared_error\n",
    "mse=mean_squared_error(y_test, y_pred)\n",
    "mae = mean_absolute_error(y_test, y_pred)\n",
    "mape = mean_absolute_percentage_error(y_test, y_pred)\n",
    "r2=r2_score(y_test, y_pred)\n",
    "adjr2=1-(((1-r2)*(len(y)-1))/((len(y)-X.shape[1]-1)))\n",
    "print('MSE: %.3f' % mse)\n",
    "print('MAE: %.3f' % mae)\n",
    "print('MAPE: %.3f' % mape)\n",
    "print('r2: %.3f' % r2)\n",
    "print('adjr2: %.3f' % adjr2)"
   ]
  },
  {
   "cell_type": "code",
   "execution_count": 15,
   "id": "80e1fac6-ae36-4d7a-b681-e6346b20b32f",
   "metadata": {},
   "outputs": [],
   "source": [
    "LSTM_prediction=pd.read_csv (r'C:\\Users\\Manos\\Desktop\\Lstm Prediction',sep='\\t',low_memory=False)\n"
   ]
  },
  {
   "cell_type": "code",
   "execution_count": 16,
   "id": "f867d6b9-3cfa-46ef-a3fe-b73b17b3680f",
   "metadata": {},
   "outputs": [
    {
     "data": {
      "text/plain": [
       "(564, 25)"
      ]
     },
     "execution_count": 16,
     "metadata": {},
     "output_type": "execute_result"
    }
   ],
   "source": [
    "LSTM_prediction.shape"
   ]
  },
  {
   "cell_type": "code",
   "execution_count": 17,
   "id": "20503cf9-2d5a-47c6-a4d5-29fb9bec0f88",
   "metadata": {},
   "outputs": [],
   "source": [
    "scaledLSTM_prediction=scaler.transform(LSTM_prediction.iloc[:,1:])#scale dataset"
   ]
  },
  {
   "cell_type": "code",
   "execution_count": 18,
   "id": "31970994-3e9e-4e41-bc3c-20a5093b74bc",
   "metadata": {},
   "outputs": [],
   "source": [
    "predLSTM_prediction=model.predict(scaledLSTM_prediction)#"
   ]
  },
  {
   "cell_type": "code",
   "execution_count": 19,
   "id": "f3dd9877-70e3-45e0-926a-507139ca9307",
   "metadata": {},
   "outputs": [],
   "source": [
    "predFI_from_LSTM= pd.DataFrame(predLSTM_prediction, columns = ['FI'])\n",
    "predFI_from_LSTM.insert(0,'idauniq',LSTM_prediction.iloc[:,0])\n",
    "predFI_from_LSTM.to_csv(r'C:\\Users\\Manos\\Desktop\\DNN_FI_LSTM',sep='\\t',index=False)"
   ]
  },
  {
   "cell_type": "code",
   "execution_count": 20,
   "id": "1df32c90-8d75-4cdb-8ec1-f98d5e42dfac",
   "metadata": {},
   "outputs": [
    {
     "data": {
      "text/html": [
       "<div>\n",
       "<style scoped>\n",
       "    .dataframe tbody tr th:only-of-type {\n",
       "        vertical-align: middle;\n",
       "    }\n",
       "\n",
       "    .dataframe tbody tr th {\n",
       "        vertical-align: top;\n",
       "    }\n",
       "\n",
       "    .dataframe thead th {\n",
       "        text-align: right;\n",
       "    }\n",
       "</style>\n",
       "<table border=\"1\" class=\"dataframe\">\n",
       "  <thead>\n",
       "    <tr style=\"text-align: right;\">\n",
       "      <th></th>\n",
       "      <th>idauniq</th>\n",
       "      <th>FI</th>\n",
       "    </tr>\n",
       "  </thead>\n",
       "  <tbody>\n",
       "    <tr>\n",
       "      <th>0</th>\n",
       "      <td>111219.0</td>\n",
       "      <td>0.123089</td>\n",
       "    </tr>\n",
       "    <tr>\n",
       "      <th>1</th>\n",
       "      <td>107792.0</td>\n",
       "      <td>0.117470</td>\n",
       "    </tr>\n",
       "    <tr>\n",
       "      <th>2</th>\n",
       "      <td>118271.0</td>\n",
       "      <td>0.095496</td>\n",
       "    </tr>\n",
       "    <tr>\n",
       "      <th>3</th>\n",
       "      <td>108337.0</td>\n",
       "      <td>0.140778</td>\n",
       "    </tr>\n",
       "    <tr>\n",
       "      <th>4</th>\n",
       "      <td>117583.0</td>\n",
       "      <td>0.117645</td>\n",
       "    </tr>\n",
       "    <tr>\n",
       "      <th>...</th>\n",
       "      <td>...</td>\n",
       "      <td>...</td>\n",
       "    </tr>\n",
       "    <tr>\n",
       "      <th>559</th>\n",
       "      <td>105129.0</td>\n",
       "      <td>0.122546</td>\n",
       "    </tr>\n",
       "    <tr>\n",
       "      <th>560</th>\n",
       "      <td>120021.0</td>\n",
       "      <td>0.158177</td>\n",
       "    </tr>\n",
       "    <tr>\n",
       "      <th>561</th>\n",
       "      <td>120041.0</td>\n",
       "      <td>0.123288</td>\n",
       "    </tr>\n",
       "    <tr>\n",
       "      <th>562</th>\n",
       "      <td>108845.0</td>\n",
       "      <td>0.144292</td>\n",
       "    </tr>\n",
       "    <tr>\n",
       "      <th>563</th>\n",
       "      <td>112612.0</td>\n",
       "      <td>0.094374</td>\n",
       "    </tr>\n",
       "  </tbody>\n",
       "</table>\n",
       "<p>564 rows × 2 columns</p>\n",
       "</div>"
      ],
      "text/plain": [
       "      idauniq        FI\n",
       "0    111219.0  0.123089\n",
       "1    107792.0  0.117470\n",
       "2    118271.0  0.095496\n",
       "3    108337.0  0.140778\n",
       "4    117583.0  0.117645\n",
       "..        ...       ...\n",
       "559  105129.0  0.122546\n",
       "560  120021.0  0.158177\n",
       "561  120041.0  0.123288\n",
       "562  108845.0  0.144292\n",
       "563  112612.0  0.094374\n",
       "\n",
       "[564 rows x 2 columns]"
      ]
     },
     "execution_count": 20,
     "metadata": {},
     "output_type": "execute_result"
    }
   ],
   "source": [
    "predFI_from_LSTM"
   ]
  },
  {
   "cell_type": "code",
   "execution_count": null,
   "id": "d031f441-852a-4679-bcbd-1868935f30f2",
   "metadata": {},
   "outputs": [],
   "source": []
  }
 ],
 "metadata": {
  "kernelspec": {
   "display_name": "Python 3 (ipykernel)",
   "language": "python",
   "name": "python3"
  },
  "language_info": {
   "codemirror_mode": {
    "name": "ipython",
    "version": 3
   },
   "file_extension": ".py",
   "mimetype": "text/x-python",
   "name": "python",
   "nbconvert_exporter": "python",
   "pygments_lexer": "ipython3",
   "version": "3.9.7"
  }
 },
 "nbformat": 4,
 "nbformat_minor": 5
}
