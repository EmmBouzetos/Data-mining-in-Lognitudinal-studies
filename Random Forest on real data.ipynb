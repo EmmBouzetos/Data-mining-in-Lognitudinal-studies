{
 "cells": [
  {
   "cell_type": "code",
   "execution_count": 1,
   "id": "94a1ba39-60dd-4753-ac30-0ab342d1da65",
   "metadata": {},
   "outputs": [],
   "source": [
    "import pandas as pd\n",
    "import numpy as np\n",
    "from sklearn.ensemble import RandomForestRegressor"
   ]
  },
  {
   "cell_type": "markdown",
   "id": "34a50599-006f-485f-bb4e-908d3d3ac17f",
   "metadata": {},
   "source": [
    "<h3>Create a dataset with nurse data and frailty index for training the rf</h3>"
   ]
  },
  {
   "cell_type": "markdown",
   "id": "3268f647-948b-46a3-ab1d-261cab1823b1",
   "metadata": {},
   "source": [
    "Load all the nurse datasets"
   ]
  },
  {
   "cell_type": "code",
   "execution_count": 2,
   "id": "abaf5d7a-ab11-4d64-811c-d9bdb44c2a1d",
   "metadata": {},
   "outputs": [],
   "source": [
    "df1 = pd.read_csv (r'C:\\Users\\Manos\\OneDrive\\My_thesis\\tab_per_wave\\Wave_2\\wave_2_nurse_data_v2.tab',sep='\\t',low_memory=False)\n",
    "df2 = pd.read_csv (r'C:\\Users\\Manos\\OneDrive\\My_thesis\\tab_per_wave\\Wave_4\\wave_4_nurse_data.tab',sep='\\t',low_memory=False)\n",
    "df3 = pd.read_csv (r'C:\\Users\\Manos\\OneDrive\\My_thesis\\tab_per_wave\\Wave_6\\wave_6_elsa_nurse_data_v2.tab',sep='\\t',low_memory=False)\n",
    "df4 = pd.read_csv (r'C:\\Users\\Manos\\OneDrive\\My_thesis\\tab_per_wave\\Wave_9\\elsa_nurse_w8w9_data_eul.tab',sep='\\t',low_memory=False)"
   ]
  },
  {
   "cell_type": "markdown",
   "id": "2dbfc1a8-7813-48ef-a569-f7f4722b39c7",
   "metadata": {},
   "source": [
    "create a dictionray for ease fo use"
   ]
  },
  {
   "cell_type": "code",
   "execution_count": 3,
   "id": "d037f31e-692e-4df3-b715-d4e35ac07d27",
   "metadata": {},
   "outputs": [],
   "source": [
    "dicto={1:df1,\n",
    "      2:df2,\n",
    "      3:df3,\n",
    "      4:df4\n",
    "     }"
   ]
  },
  {
   "cell_type": "markdown",
   "id": "3d42211b-2aa9-4b8e-8028-3d479f28ccca",
   "metadata": {},
   "source": [
    "Keep only the nurse ralated col"
   ]
  },
  {
   "cell_type": "code",
   "execution_count": 4,
   "id": "dac7b361-1e63-4c63-9a0f-8c9a0958a616",
   "metadata": {},
   "outputs": [],
   "source": [
    "feat_list=['idauniq','sys1','sys2','sys3','dias1','dias2','dias3','pulse1','pulse2','pulse3','cfib',\n",
    "       'chol','hdl','trig','ldl','rtin','hscrp','hgb','hba1c','mmgsd1','mmgsd2','mmgsd3',\n",
    "       'mmgsn1','mmgsn2','mmgsn3']"
   ]
  },
  {
   "cell_type": "code",
   "execution_count": 5,
   "id": "5c9849ac-061a-4f32-9c4d-57e246a07a9d",
   "metadata": {},
   "outputs": [],
   "source": [
    "for i in range (1,5):\n",
    "    dicto[i]=dicto[i][feat_list]"
   ]
  },
  {
   "cell_type": "markdown",
   "id": "a26d523a-7391-4a20-a35d-9b0a5308a8e1",
   "metadata": {},
   "source": [
    "Load frailty indexes for waves 2,4,6,8 and keep only idauniq and fi"
   ]
  },
  {
   "cell_type": "code",
   "execution_count": 6,
   "id": "15fc318d-e711-44d0-9df0-1f0dfda8364d",
   "metadata": {},
   "outputs": [],
   "source": [
    "fdf1 = pd.read_csv (r'C:\\Users\\Manos\\OneDrive\\My_thesis\\prepared_data\\Frailty_Indices\\Frailty_Index_Wave_2.tab',sep='\\t',low_memory=False)\n",
    "fdf2 = pd.read_csv (r'C:\\Users\\Manos\\OneDrive\\My_thesis\\prepared_data\\Frailty_Indices\\Frailty_Index_Wave_4.tab',sep='\\t',low_memory=False)\n",
    "fdf3 = pd.read_csv (r'C:\\Users\\Manos\\OneDrive\\My_thesis\\prepared_data\\Frailty_Indices\\Frailty_Index_Wave_6.tab',sep='\\t',low_memory=False)\n",
    "fdf4 = pd.read_csv (r'C:\\Users\\Manos\\OneDrive\\My_thesis\\prepared_data\\Frailty_Indices\\Frailty_Index_Wave_8.tab',sep='\\t',low_memory=False)"
   ]
  },
  {
   "cell_type": "code",
   "execution_count": 7,
   "id": "8109851a-70c3-4c7c-a393-e8755a21b33c",
   "metadata": {},
   "outputs": [],
   "source": [
    "fdicto={1:fdf1,\n",
    "      2:fdf2,\n",
    "      3:fdf3,\n",
    "      4:fdf4\n",
    "     }"
   ]
  },
  {
   "cell_type": "code",
   "execution_count": 8,
   "id": "ab6bad6e-d4a5-4dc6-a84d-0a69529db1cb",
   "metadata": {},
   "outputs": [],
   "source": [
    "for i in range (1,5):\n",
    "    fdicto[i]=fdicto[i][['idauniq','FI']]"
   ]
  },
  {
   "cell_type": "markdown",
   "id": "840f79a0-b5e9-43ea-9f3d-938e2d1ab7bc",
   "metadata": {},
   "source": [
    "Merge fi with nurse"
   ]
  },
  {
   "cell_type": "code",
   "execution_count": 9,
   "id": "0ccc45c0-2a0a-4fad-ace5-8d429012d21a",
   "metadata": {},
   "outputs": [],
   "source": [
    "for i in range (1,5):\n",
    "    dicto[i] = pd.merge(dicto[i], fdicto[i], how='inner', on=['idauniq'])"
   ]
  },
  {
   "cell_type": "markdown",
   "id": "680b70bd-32bc-42be-a26d-6f864a8c15b1",
   "metadata": {},
   "source": [
    "Concat frames to create a set for training"
   ]
  },
  {
   "cell_type": "code",
   "execution_count": 10,
   "id": "008ec28b-c258-4c3c-85f9-f5fd1ea18377",
   "metadata": {},
   "outputs": [],
   "source": [
    "frames=[dicto[1],dicto[2],dicto[3],dicto[4]]\n",
    "result=pd.concat(frames)"
   ]
  },
  {
   "cell_type": "markdown",
   "id": "5701d687-644e-4883-88b3-ce1c78841aa4",
   "metadata": {},
   "source": [
    "<h4>KNN Imputation</h4>"
   ]
  },
  {
   "cell_type": "markdown",
   "id": "f163f98a-9a4a-4768-9a07-04a2ad6eafb2",
   "metadata": {},
   "source": [
    "convert object dtypes to floats "
   ]
  },
  {
   "cell_type": "code",
   "execution_count": 11,
   "id": "a134cc81-3ae3-4d1b-9bd1-19fa1bc93aee",
   "metadata": {},
   "outputs": [],
   "source": [
    "types=result.dtypes\n",
    "#types"
   ]
  },
  {
   "cell_type": "code",
   "execution_count": 12,
   "id": "97412e07-80f1-4194-b4e2-9c643cfe141e",
   "metadata": {},
   "outputs": [],
   "source": [
    "#get the indexes of values equal to object and then convert them to a list with .tolist() function\n",
    "list_obj=types[types=='object'].index.tolist()"
   ]
  },
  {
   "cell_type": "code",
   "execution_count": 13,
   "id": "8907b38d-f31d-4ad3-8b81-19d6ff171b97",
   "metadata": {},
   "outputs": [],
   "source": [
    "for i in range (0,len(list_obj)):\n",
    "    result[list_obj[i]]=pd.to_numeric(result[list_obj[i]], errors='coerce')"
   ]
  },
  {
   "cell_type": "code",
   "execution_count": 14,
   "id": "c5d5545b-8525-43de-b295-4a258d68f479",
   "metadata": {},
   "outputs": [],
   "source": [
    "types=result.dtypes\n",
    "#types"
   ]
  },
  {
   "cell_type": "markdown",
   "id": "aa08aa4d-a232-4b77-a673-f2892d56e910",
   "metadata": {},
   "source": [
    "replace mssing values with nan"
   ]
  },
  {
   "cell_type": "code",
   "execution_count": 15,
   "id": "dea1c82f-9ace-4a05-9eb6-a8efaa5d6089",
   "metadata": {},
   "outputs": [],
   "source": [
    "for k in range(-12,0):\n",
    "  result=result.replace(k,np.nan)"
   ]
  },
  {
   "cell_type": "code",
   "execution_count": 16,
   "id": "22b1f2a8-988e-4501-9c23-4e6eb04fec0b",
   "metadata": {},
   "outputs": [],
   "source": [
    "percent_missing = result.isnull().sum() * 100 / len(result)\n",
    "missing_value_df = pd.DataFrame({'column_name': result.columns,\n",
    "                                 'percent_missing': percent_missing})"
   ]
  },
  {
   "cell_type": "code",
   "execution_count": 17,
   "id": "51d1cab8-6b68-4a5a-aa8f-d60183962950",
   "metadata": {},
   "outputs": [
    {
     "data": {
      "text/html": [
       "<div>\n",
       "<style scoped>\n",
       "    .dataframe tbody tr th:only-of-type {\n",
       "        vertical-align: middle;\n",
       "    }\n",
       "\n",
       "    .dataframe tbody tr th {\n",
       "        vertical-align: top;\n",
       "    }\n",
       "\n",
       "    .dataframe thead th {\n",
       "        text-align: right;\n",
       "    }\n",
       "</style>\n",
       "<table border=\"1\" class=\"dataframe\">\n",
       "  <thead>\n",
       "    <tr style=\"text-align: right;\">\n",
       "      <th></th>\n",
       "      <th>column_name</th>\n",
       "      <th>percent_missing</th>\n",
       "    </tr>\n",
       "  </thead>\n",
       "  <tbody>\n",
       "    <tr>\n",
       "      <th>idauniq</th>\n",
       "      <td>idauniq</td>\n",
       "      <td>0.000000</td>\n",
       "    </tr>\n",
       "    <tr>\n",
       "      <th>sys1</th>\n",
       "      <td>sys1</td>\n",
       "      <td>0.618481</td>\n",
       "    </tr>\n",
       "    <tr>\n",
       "      <th>sys2</th>\n",
       "      <td>sys2</td>\n",
       "      <td>0.725461</td>\n",
       "    </tr>\n",
       "    <tr>\n",
       "      <th>sys3</th>\n",
       "      <td>sys3</td>\n",
       "      <td>0.842471</td>\n",
       "    </tr>\n",
       "    <tr>\n",
       "      <th>dias1</th>\n",
       "      <td>dias1</td>\n",
       "      <td>0.621824</td>\n",
       "    </tr>\n",
       "    <tr>\n",
       "      <th>dias2</th>\n",
       "      <td>dias2</td>\n",
       "      <td>0.722118</td>\n",
       "    </tr>\n",
       "    <tr>\n",
       "      <th>dias3</th>\n",
       "      <td>dias3</td>\n",
       "      <td>0.842471</td>\n",
       "    </tr>\n",
       "    <tr>\n",
       "      <th>pulse1</th>\n",
       "      <td>pulse1</td>\n",
       "      <td>0.628510</td>\n",
       "    </tr>\n",
       "    <tr>\n",
       "      <th>pulse2</th>\n",
       "      <td>pulse2</td>\n",
       "      <td>0.715432</td>\n",
       "    </tr>\n",
       "    <tr>\n",
       "      <th>pulse3</th>\n",
       "      <td>pulse3</td>\n",
       "      <td>0.845814</td>\n",
       "    </tr>\n",
       "    <tr>\n",
       "      <th>cfib</th>\n",
       "      <td>cfib</td>\n",
       "      <td>26.427521</td>\n",
       "    </tr>\n",
       "    <tr>\n",
       "      <th>chol</th>\n",
       "      <td>chol</td>\n",
       "      <td>24.114068</td>\n",
       "    </tr>\n",
       "    <tr>\n",
       "      <th>hdl</th>\n",
       "      <td>hdl</td>\n",
       "      <td>24.160872</td>\n",
       "    </tr>\n",
       "    <tr>\n",
       "      <th>trig</th>\n",
       "      <td>trig</td>\n",
       "      <td>24.117411</td>\n",
       "    </tr>\n",
       "    <tr>\n",
       "      <th>ldl</th>\n",
       "      <td>ldl</td>\n",
       "      <td>25.528216</td>\n",
       "    </tr>\n",
       "    <tr>\n",
       "      <th>rtin</th>\n",
       "      <td>rtin</td>\n",
       "      <td>24.117411</td>\n",
       "    </tr>\n",
       "    <tr>\n",
       "      <th>hscrp</th>\n",
       "      <td>hscrp</td>\n",
       "      <td>24.127440</td>\n",
       "    </tr>\n",
       "    <tr>\n",
       "      <th>hgb</th>\n",
       "      <td>hgb</td>\n",
       "      <td>25.140412</td>\n",
       "    </tr>\n",
       "    <tr>\n",
       "      <th>hba1c</th>\n",
       "      <td>hba1c</td>\n",
       "      <td>25.200588</td>\n",
       "    </tr>\n",
       "    <tr>\n",
       "      <th>mmgsd1</th>\n",
       "      <td>mmgsd1</td>\n",
       "      <td>2.657796</td>\n",
       "    </tr>\n",
       "    <tr>\n",
       "      <th>mmgsd2</th>\n",
       "      <td>mmgsd2</td>\n",
       "      <td>2.664482</td>\n",
       "    </tr>\n",
       "    <tr>\n",
       "      <th>mmgsd3</th>\n",
       "      <td>mmgsd3</td>\n",
       "      <td>2.674512</td>\n",
       "    </tr>\n",
       "    <tr>\n",
       "      <th>mmgsn1</th>\n",
       "      <td>mmgsn1</td>\n",
       "      <td>2.878443</td>\n",
       "    </tr>\n",
       "    <tr>\n",
       "      <th>mmgsn2</th>\n",
       "      <td>mmgsn2</td>\n",
       "      <td>2.881787</td>\n",
       "    </tr>\n",
       "    <tr>\n",
       "      <th>mmgsn3</th>\n",
       "      <td>mmgsn3</td>\n",
       "      <td>2.901845</td>\n",
       "    </tr>\n",
       "    <tr>\n",
       "      <th>FI</th>\n",
       "      <td>FI</td>\n",
       "      <td>0.000000</td>\n",
       "    </tr>\n",
       "  </tbody>\n",
       "</table>\n",
       "</div>"
      ],
      "text/plain": [
       "        column_name  percent_missing\n",
       "idauniq     idauniq         0.000000\n",
       "sys1           sys1         0.618481\n",
       "sys2           sys2         0.725461\n",
       "sys3           sys3         0.842471\n",
       "dias1         dias1         0.621824\n",
       "dias2         dias2         0.722118\n",
       "dias3         dias3         0.842471\n",
       "pulse1       pulse1         0.628510\n",
       "pulse2       pulse2         0.715432\n",
       "pulse3       pulse3         0.845814\n",
       "cfib           cfib        26.427521\n",
       "chol           chol        24.114068\n",
       "hdl             hdl        24.160872\n",
       "trig           trig        24.117411\n",
       "ldl             ldl        25.528216\n",
       "rtin           rtin        24.117411\n",
       "hscrp         hscrp        24.127440\n",
       "hgb             hgb        25.140412\n",
       "hba1c         hba1c        25.200588\n",
       "mmgsd1       mmgsd1         2.657796\n",
       "mmgsd2       mmgsd2         2.664482\n",
       "mmgsd3       mmgsd3         2.674512\n",
       "mmgsn1       mmgsn1         2.878443\n",
       "mmgsn2       mmgsn2         2.881787\n",
       "mmgsn3       mmgsn3         2.901845\n",
       "FI               FI         0.000000"
      ]
     },
     "execution_count": 17,
     "metadata": {},
     "output_type": "execute_result"
    }
   ],
   "source": [
    "missing_value_df"
   ]
  },
  {
   "cell_type": "code",
   "execution_count": 18,
   "id": "ac128020-bef0-4ff6-aa6e-1a3e48d4b897",
   "metadata": {},
   "outputs": [],
   "source": [
    "#define knn\n",
    "from sklearn.impute import KNNImputer\n",
    "knnimputer= KNNImputer(n_neighbors=5)\n",
    "#apply knn\n",
    "imputed=knnimputer.fit_transform(result)"
   ]
  },
  {
   "cell_type": "code",
   "execution_count": 19,
   "id": "4c8e0798-f3e4-4c98-8991-703f15b7e035",
   "metadata": {},
   "outputs": [],
   "source": [
    "feat_list=['idauniq','sys1','sys2','sys3','dias1','dias2','dias3','pulse1','pulse2','pulse3','cfib',\n",
    "       'chol','hdl','trig','ldl','rtin','hscrp','hgb','hba1c','mmgsd1','mmgsd2','mmgsd3',\n",
    "       'mmgsn1','mmgsn2','mmgsn3','FI']\n",
    "imputed = pd.DataFrame(imputed, columns = feat_list)"
   ]
  },
  {
   "cell_type": "markdown",
   "id": "68af6aac-e67f-425c-b9a8-3a7c5dbabf93",
   "metadata": {},
   "source": [
    "Export for Future use"
   ]
  },
  {
   "cell_type": "code",
   "execution_count": 20,
   "id": "df1f4b7b-e2fd-4490-9a7a-d76226006af4",
   "metadata": {},
   "outputs": [],
   "source": [
    "# imputed.to_csv(r'C:\\Users\\Manos\\OneDrive/Thesis Final/LSTM/all_nurse_with_FI_imputed.tab',sep='\\t',index=False)"
   ]
  },
  {
   "cell_type": "code",
   "execution_count": 21,
   "id": "5beabcbf-ad32-486c-8607-6df2d35d897b",
   "metadata": {},
   "outputs": [],
   "source": [
    "imputed=pd.read_csv (r'C:\\Users\\Manos\\OneDrive/Thesis Final/LSTM/all_nurse_with_FI_imputed.tab',sep='\\t',low_memory=False)"
   ]
  },
  {
   "cell_type": "code",
   "execution_count": 22,
   "id": "8200291b-4d52-4972-b17c-27f46bbea8e5",
   "metadata": {},
   "outputs": [
    {
     "data": {
      "text/html": [
       "<div>\n",
       "<style scoped>\n",
       "    .dataframe tbody tr th:only-of-type {\n",
       "        vertical-align: middle;\n",
       "    }\n",
       "\n",
       "    .dataframe tbody tr th {\n",
       "        vertical-align: top;\n",
       "    }\n",
       "\n",
       "    .dataframe thead th {\n",
       "        text-align: right;\n",
       "    }\n",
       "</style>\n",
       "<table border=\"1\" class=\"dataframe\">\n",
       "  <thead>\n",
       "    <tr style=\"text-align: right;\">\n",
       "      <th></th>\n",
       "      <th>idauniq</th>\n",
       "      <th>sys1</th>\n",
       "      <th>sys2</th>\n",
       "      <th>sys3</th>\n",
       "      <th>dias1</th>\n",
       "      <th>dias2</th>\n",
       "      <th>dias3</th>\n",
       "      <th>pulse1</th>\n",
       "      <th>pulse2</th>\n",
       "      <th>pulse3</th>\n",
       "      <th>...</th>\n",
       "      <th>hscrp</th>\n",
       "      <th>hgb</th>\n",
       "      <th>hba1c</th>\n",
       "      <th>mmgsd1</th>\n",
       "      <th>mmgsd2</th>\n",
       "      <th>mmgsd3</th>\n",
       "      <th>mmgsn1</th>\n",
       "      <th>mmgsn2</th>\n",
       "      <th>mmgsn3</th>\n",
       "      <th>FI</th>\n",
       "    </tr>\n",
       "  </thead>\n",
       "  <tbody>\n",
       "    <tr>\n",
       "      <th>0</th>\n",
       "      <td>103712.0</td>\n",
       "      <td>152.0</td>\n",
       "      <td>145.0</td>\n",
       "      <td>150.0</td>\n",
       "      <td>84.0</td>\n",
       "      <td>80.0</td>\n",
       "      <td>78.0</td>\n",
       "      <td>78.0</td>\n",
       "      <td>77.0</td>\n",
       "      <td>79.0</td>\n",
       "      <td>...</td>\n",
       "      <td>0.5</td>\n",
       "      <td>13.8</td>\n",
       "      <td>6.8</td>\n",
       "      <td>20.0</td>\n",
       "      <td>24.0</td>\n",
       "      <td>26.0</td>\n",
       "      <td>30.0</td>\n",
       "      <td>31.0</td>\n",
       "      <td>30.0</td>\n",
       "      <td>0.150938</td>\n",
       "    </tr>\n",
       "    <tr>\n",
       "      <th>1</th>\n",
       "      <td>103713.0</td>\n",
       "      <td>143.0</td>\n",
       "      <td>141.0</td>\n",
       "      <td>144.0</td>\n",
       "      <td>91.0</td>\n",
       "      <td>86.0</td>\n",
       "      <td>85.0</td>\n",
       "      <td>75.0</td>\n",
       "      <td>78.0</td>\n",
       "      <td>76.0</td>\n",
       "      <td>...</td>\n",
       "      <td>3.3</td>\n",
       "      <td>11.2</td>\n",
       "      <td>5.6</td>\n",
       "      <td>29.4</td>\n",
       "      <td>29.8</td>\n",
       "      <td>30.0</td>\n",
       "      <td>33.0</td>\n",
       "      <td>38.0</td>\n",
       "      <td>35.0</td>\n",
       "      <td>0.270625</td>\n",
       "    </tr>\n",
       "    <tr>\n",
       "      <th>2</th>\n",
       "      <td>103714.0</td>\n",
       "      <td>150.0</td>\n",
       "      <td>143.0</td>\n",
       "      <td>139.0</td>\n",
       "      <td>91.0</td>\n",
       "      <td>100.0</td>\n",
       "      <td>91.0</td>\n",
       "      <td>86.0</td>\n",
       "      <td>86.0</td>\n",
       "      <td>81.0</td>\n",
       "      <td>...</td>\n",
       "      <td>0.8</td>\n",
       "      <td>15.0</td>\n",
       "      <td>4.9</td>\n",
       "      <td>28.0</td>\n",
       "      <td>29.0</td>\n",
       "      <td>27.0</td>\n",
       "      <td>30.0</td>\n",
       "      <td>31.0</td>\n",
       "      <td>30.0</td>\n",
       "      <td>0.046875</td>\n",
       "    </tr>\n",
       "    <tr>\n",
       "      <th>3</th>\n",
       "      <td>103715.0</td>\n",
       "      <td>142.0</td>\n",
       "      <td>138.0</td>\n",
       "      <td>144.0</td>\n",
       "      <td>78.0</td>\n",
       "      <td>78.0</td>\n",
       "      <td>74.0</td>\n",
       "      <td>68.0</td>\n",
       "      <td>69.0</td>\n",
       "      <td>69.0</td>\n",
       "      <td>...</td>\n",
       "      <td>3.0</td>\n",
       "      <td>15.3</td>\n",
       "      <td>5.4</td>\n",
       "      <td>32.0</td>\n",
       "      <td>30.0</td>\n",
       "      <td>30.0</td>\n",
       "      <td>26.0</td>\n",
       "      <td>32.0</td>\n",
       "      <td>30.0</td>\n",
       "      <td>0.078125</td>\n",
       "    </tr>\n",
       "    <tr>\n",
       "      <th>4</th>\n",
       "      <td>103716.0</td>\n",
       "      <td>160.0</td>\n",
       "      <td>159.0</td>\n",
       "      <td>158.0</td>\n",
       "      <td>82.0</td>\n",
       "      <td>81.0</td>\n",
       "      <td>81.0</td>\n",
       "      <td>56.0</td>\n",
       "      <td>54.0</td>\n",
       "      <td>55.0</td>\n",
       "      <td>...</td>\n",
       "      <td>1.1</td>\n",
       "      <td>15.1</td>\n",
       "      <td>5.3</td>\n",
       "      <td>26.0</td>\n",
       "      <td>24.0</td>\n",
       "      <td>23.0</td>\n",
       "      <td>29.0</td>\n",
       "      <td>28.0</td>\n",
       "      <td>29.0</td>\n",
       "      <td>0.117188</td>\n",
       "    </tr>\n",
       "  </tbody>\n",
       "</table>\n",
       "<p>5 rows × 26 columns</p>\n",
       "</div>"
      ],
      "text/plain": [
       "    idauniq   sys1   sys2   sys3  dias1  dias2  dias3  pulse1  pulse2  pulse3  \\\n",
       "0  103712.0  152.0  145.0  150.0   84.0   80.0   78.0    78.0    77.0    79.0   \n",
       "1  103713.0  143.0  141.0  144.0   91.0   86.0   85.0    75.0    78.0    76.0   \n",
       "2  103714.0  150.0  143.0  139.0   91.0  100.0   91.0    86.0    86.0    81.0   \n",
       "3  103715.0  142.0  138.0  144.0   78.0   78.0   74.0    68.0    69.0    69.0   \n",
       "4  103716.0  160.0  159.0  158.0   82.0   81.0   81.0    56.0    54.0    55.0   \n",
       "\n",
       "   ...  hscrp   hgb  hba1c  mmgsd1  mmgsd2  mmgsd3  mmgsn1  mmgsn2  mmgsn3  \\\n",
       "0  ...    0.5  13.8    6.8    20.0    24.0    26.0    30.0    31.0    30.0   \n",
       "1  ...    3.3  11.2    5.6    29.4    29.8    30.0    33.0    38.0    35.0   \n",
       "2  ...    0.8  15.0    4.9    28.0    29.0    27.0    30.0    31.0    30.0   \n",
       "3  ...    3.0  15.3    5.4    32.0    30.0    30.0    26.0    32.0    30.0   \n",
       "4  ...    1.1  15.1    5.3    26.0    24.0    23.0    29.0    28.0    29.0   \n",
       "\n",
       "         FI  \n",
       "0  0.150938  \n",
       "1  0.270625  \n",
       "2  0.046875  \n",
       "3  0.078125  \n",
       "4  0.117188  \n",
       "\n",
       "[5 rows x 26 columns]"
      ]
     },
     "execution_count": 22,
     "metadata": {},
     "output_type": "execute_result"
    }
   ],
   "source": [
    "imputed.head()"
   ]
  },
  {
   "cell_type": "markdown",
   "id": "0de30ce5-c8fb-4787-b8ea-f0e56e612f4b",
   "metadata": {},
   "source": [
    "Random Forest"
   ]
  },
  {
   "cell_type": "markdown",
   "id": "4643c88f-93cc-46e9-96d0-487cb932d4dc",
   "metadata": {},
   "source": [
    "split dataset to indepent and target variables"
   ]
  },
  {
   "cell_type": "code",
   "execution_count": 23,
   "id": "a2cd37f7-77c7-496f-8f5b-f6158e3b9cee",
   "metadata": {},
   "outputs": [],
   "source": [
    "X=imputed.iloc[:,1:-1]\n",
    "y=imputed.iloc[:,-1]"
   ]
  },
  {
   "cell_type": "code",
   "execution_count": 24,
   "id": "b9674e99-0ef5-44ba-931d-5183e89dc703",
   "metadata": {},
   "outputs": [],
   "source": [
    "from sklearn.model_selection import train_test_split\n",
    "X_train, X_test, y_train, y_test= train_test_split(X, y, random_state=32)"
   ]
  },
  {
   "cell_type": "code",
   "execution_count": 25,
   "id": "be302ac5-3fa5-4526-bebe-f556a3d41e39",
   "metadata": {},
   "outputs": [
    {
     "data": {
      "text/plain": [
       "RandomForestRegressor(n_estimators=200)"
      ]
     },
     "execution_count": 25,
     "metadata": {},
     "output_type": "execute_result"
    }
   ],
   "source": [
    "rf= RandomForestRegressor(n_estimators = 200)\n",
    "rf.fit(X_train, y_train)"
   ]
  },
  {
   "cell_type": "markdown",
   "id": "9d7e6d48-d028-4e26-8dbb-67f5943d0d51",
   "metadata": {},
   "source": [
    "Load the df that has been predicted from the LSTM"
   ]
  },
  {
   "cell_type": "code",
   "execution_count": 26,
   "id": "7cbfab47-0cfe-4980-b15a-05216ef3a81b",
   "metadata": {},
   "outputs": [],
   "source": [
    "# pred = pd.read_csv (r'C:\\Users\\Manos/OneDrive/Thesis Final/LSTM/Scaled_and_unidemensiolized_datasets/predicted_wave8.tab',sep='\\t',low_memory=False)"
   ]
  },
  {
   "cell_type": "markdown",
   "id": "95a6c2c1-34b1-459f-8381-3b8c2fde4d06",
   "metadata": {},
   "source": [
    "make FI prediction"
   ]
  },
  {
   "cell_type": "code",
   "execution_count": 27,
   "id": "8e72b975-e175-42e3-8303-6b90ef5be837",
   "metadata": {},
   "outputs": [],
   "source": [
    "y_pred=rf.predict(X_test)#dont include idauniq"
   ]
  },
  {
   "cell_type": "code",
   "execution_count": 28,
   "id": "8e2f34ba-3ec0-4662-92d4-5e34a5a15e66",
   "metadata": {},
   "outputs": [
    {
     "name": "stdout",
     "output_type": "stream",
     "text": [
      "MSE: 0.012\n",
      "MAE: 0.082\n",
      "MAPE: 23724039178999.074\n",
      "r2: 0.247\n",
      "adjr2: 0.247\n"
     ]
    }
   ],
   "source": [
    "from sklearn.metrics import mean_absolute_error, r2_score, mean_absolute_percentage_error,mean_squared_error\n",
    "mse=mean_squared_error(y_test, y_pred)\n",
    "mae = mean_absolute_error(y_test, y_pred)\n",
    "mape = mean_absolute_percentage_error(y_test, y_pred)\n",
    "r2=r2_score(y_test, y_pred)\n",
    "adjr2=1-(((1-r2)*(len(y)-1))/((len(y)-X.shape[1]-1)))\n",
    "print('MSE: %.3f' % mse)\n",
    "print('MAE: %.3f' % mae)\n",
    "print('MAPE: %.3f' % mape)\n",
    "print('r2: %.3f' % r2)\n",
    "print('adjr2: %.3f' % adjr2)"
   ]
  },
  {
   "cell_type": "code",
   "execution_count": 29,
   "id": "4a2d205e-fbc3-4f20-aa94-0a1a06402448",
   "metadata": {},
   "outputs": [],
   "source": [
    "MSE: 0.012\n",
    "MAE: 0.082\n",
    "MAPE: 0.698\n",
    "r2: -1.741\n",
    "adjr2: -1.743"
   ]
  },
  {
   "cell_type": "code",
   "execution_count": 30,
   "id": "44a58d6e-b409-4593-aa19-bf103e0c4e69",
   "metadata": {},
   "outputs": [],
   "source": [
    "LSTM_prediction=pd.read_csv (r'C:\\Users\\Manos\\Desktop\\Lstm Prediction',sep='\\t',low_memory=False)"
   ]
  },
  {
   "cell_type": "code",
   "execution_count": 31,
   "id": "d27b8c8c-c36d-4323-8b7d-65c205f67531",
   "metadata": {},
   "outputs": [],
   "source": [
    "FI_from_LSTM=rf.predict(LSTM_prediction.iloc[:,1:])#"
   ]
  },
  {
   "cell_type": "code",
   "execution_count": 32,
   "id": "79695323-7a64-438a-93e5-338e205b45af",
   "metadata": {},
   "outputs": [],
   "source": [
    "FI_from_LSTM= pd.DataFrame(FI_from_LSTM, columns = ['FI'])\n",
    "FI_from_LSTM.insert(0,'idauniq',LSTM_prediction.iloc[:,0])\n",
    "FI_from_LSTM.to_csv(r'C:\\Users\\Manos\\Desktop\\RF_FI_LSTM',sep='\\t',index=False)"
   ]
  },
  {
   "cell_type": "code",
   "execution_count": null,
   "id": "ce616560-7345-4611-883f-c65ce31e1277",
   "metadata": {},
   "outputs": [],
   "source": []
  }
 ],
 "metadata": {
  "kernelspec": {
   "display_name": "Python 3 (ipykernel)",
   "language": "python",
   "name": "python3"
  },
  "language_info": {
   "codemirror_mode": {
    "name": "ipython",
    "version": 3
   },
   "file_extension": ".py",
   "mimetype": "text/x-python",
   "name": "python",
   "nbconvert_exporter": "python",
   "pygments_lexer": "ipython3",
   "version": "3.9.7"
  }
 },
 "nbformat": 4,
 "nbformat_minor": 5
}
