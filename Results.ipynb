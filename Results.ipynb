{
 "cells": [
  {
   "cell_type": "code",
   "execution_count": 1,
   "id": "807615ff-2e0f-465c-aabb-a0e2edb16251",
   "metadata": {},
   "outputs": [],
   "source": [
    "import pandas as pd\n",
    "import numpy as np\n",
    "import matplotlib.pyplot as plt\n",
    "from sklearn.metrics import mean_absolute_error, r2_score, mean_absolute_percentage_error,mean_squared_error"
   ]
  },
  {
   "cell_type": "markdown",
   "id": "b927feaf-d72b-4aff-844f-93474a451185",
   "metadata": {},
   "source": [
    "Load Datasets"
   ]
  },
  {
   "cell_type": "code",
   "execution_count": 2,
   "id": "ef9689ca-ac01-4cdd-a315-ca4cdbb53d8e",
   "metadata": {},
   "outputs": [],
   "source": [
    "#predicted datasets\n",
    "svm=pd.read_csv (r'C:\\Users\\Manos\\Desktop\\SVM_FI_LSTM',sep='\\t',low_memory=False)\n",
    "rf=pd.read_csv (r'C:\\Users\\Manos\\Desktop\\rf_FI_LSTM',sep='\\t',low_memory=False)\n",
    "gbdt=pd.read_csv (r'C:\\Users\\Manos\\Desktop\\gbdt_FI_LSTM',sep='\\t',low_memory=False)\n",
    "dnn=pd.read_csv (r'C:\\Users\\Manos\\Desktop\\DNN_FI_LSTM',sep='\\t',low_memory=False)\n",
    "lr=pd.read_csv (r'C:\\Users\\Manos\\Desktop\\lr_FI_LSTM',sep='\\t',low_memory=False)"
   ]
  },
  {
   "cell_type": "markdown",
   "id": "9fa9eb93-5405-4b56-8d58-f273b2fcb96b",
   "metadata": {},
   "source": [
    "Load Real FIs"
   ]
  },
  {
   "cell_type": "code",
   "execution_count": 3,
   "id": "32bcfed0-926f-4a41-a33b-f489cf46733e",
   "metadata": {},
   "outputs": [],
   "source": [
    "wave8=pd.read_csv (r'C:\\Users\\Manos\\OneDrive\\My_thesis\\prepared_data\\Frailty_Indices\\Frailty_Index_Wave_8.tab',sep='\\t',low_memory=False)"
   ]
  },
  {
   "cell_type": "code",
   "execution_count": 4,
   "id": "cb98f74b-8d9d-44e8-b24f-dc26554da68d",
   "metadata": {},
   "outputs": [],
   "source": [
    "arr=np.array(svm.idauniq)\n",
    "wave8commonFI = wave8[wave8.idauniq.isin(arr)]#common ids from wave 8"
   ]
  },
  {
   "cell_type": "code",
   "execution_count": 5,
   "id": "2b6e2c4b-5379-47cc-a87c-5e83b2fb23e8",
   "metadata": {},
   "outputs": [],
   "source": [
    "arr1=np.array(wave8commonFI.idauniq)"
   ]
  },
  {
   "cell_type": "code",
   "execution_count": 6,
   "id": "6b622f40-0b71-4e65-9652-3f7549b850c8",
   "metadata": {},
   "outputs": [],
   "source": [
    "svm = svm[svm.idauniq.isin(arr1)]#common ids from wave 8\n",
    "lr = lr[lr.idauniq.isin(arr1)]#common ids from wave 8\n",
    "dnn = dnn[dnn.idauniq.isin(arr1)]#common ids from wave 8\n",
    "rf = rf[rf.idauniq.isin(arr1)]#common ids from wave 8\n",
    "gbdt = gbdt[gbdt.idauniq.isin(arr1)]#common ids from wave 8"
   ]
  },
  {
   "cell_type": "code",
   "execution_count": 7,
   "id": "50df6235-9f49-4e2e-b5eb-a1d479c32022",
   "metadata": {},
   "outputs": [
    {
     "data": {
      "text/plain": [
       "(560, 2)"
      ]
     },
     "execution_count": 7,
     "metadata": {},
     "output_type": "execute_result"
    }
   ],
   "source": [
    "dnn.shape"
   ]
  },
  {
   "cell_type": "markdown",
   "id": "129223ee-d431-426a-9bd3-3cd0c17a372b",
   "metadata": {},
   "source": [
    "Wave 8"
   ]
  },
  {
   "cell_type": "code",
   "execution_count": 8,
   "id": "9ebbf487-5c06-4738-813b-f6586f8d5c5d",
   "metadata": {},
   "outputs": [
    {
     "data": {
      "image/png": "[encoded data removed]",
      "text/plain": [
       "<Figure size 432x288 with 1 Axes>"
      ]
     },
     "metadata": {
      "needs_background": "light"
     },
     "output_type": "display_data"
    }
   ],
   "source": [
    "plt.hist(wave8commonFI['FI'], color = 'blue', edgecolor = 'black',\n",
    "         bins = int(21))\n",
    "plt.savefig(r'C:\\Users\\Manos\\Desktop\\wave8_564fi.png')\n",
    "plt.show()\n"
   ]
  },
  {
   "cell_type": "code",
   "execution_count": 9,
   "id": "e3d26ed6-658e-45f5-adfd-8c8c0e7d8a0b",
   "metadata": {},
   "outputs": [],
   "source": [
    "plt.show()"
   ]
  },
  {
   "cell_type": "code",
   "execution_count": 10,
   "id": "8319dcfd-3a50-4301-bd10-182774c4d18d",
   "metadata": {},
   "outputs": [],
   "source": [
    "def measurments(model):\n",
    "    plt.hist(model['FI'], color = 'blue', edgecolor = 'black',\n",
    "         bins = int(21))\n",
    "    plt.show()\n",
    "    mse=mean_squared_error(wave8commonFI['FI'], model['FI'])\n",
    "    mae = mean_absolute_error(wave8commonFI['FI'], model['FI'])\n",
    "    mape = mean_absolute_percentage_error(wave8commonFI['FI'], model['FI'])\n",
    "    r2=r2_score(wave8commonFI['FI'], model['FI'])\n",
    "    adjr2=1-(((1-r2)*(560-1))/((560-24-1)))\n",
    "    print('MSE: %.3f' % mse)\n",
    "    print('MAE: %.3f' % mae)\n",
    "    print('MAPE: %.3f' % mape)\n",
    "    print('r2: %.3f' % r2)\n",
    "    print('adjr2: %.3f' % adjr2)"
   ]
  },
  {
   "cell_type": "code",
   "execution_count": 11,
   "id": "841b273f-a649-473d-b89b-97fa18324956",
   "metadata": {},
   "outputs": [
    {
     "data": {
      "image/png": "[encoded data removed]",
      "text/plain": [
       "<Figure size 432x288 with 1 Axes>"
      ]
     },
     "metadata": {
      "needs_background": "light"
     },
     "output_type": "display_data"
    },
    {
     "name": "stdout",
     "output_type": "stream",
     "text": [
      "MSE: 0.019\n",
      "MAE: 0.107\n",
      "MAPE: 20431877709526.848\n",
      "r2: -0.074\n",
      "adjr2: -0.122\n"
     ]
    }
   ],
   "source": [
    "# measurments(svm)\n",
    "#measurments(rf)\n",
    "measurments(gbdt)\n",
    "#measurments(dnn)\n",
    "#measurments(lr)"
   ]
  },
  {
   "cell_type": "code",
   "execution_count": 12,
   "id": "43d58ba5-3881-44f9-8fbc-5746adbece0d",
   "metadata": {},
   "outputs": [
    {
     "name": "stdout",
     "output_type": "stream",
     "text": [
      "\n"
     ]
    }
   ],
   "source": [
    "r = np.arange(6)\n",
    "print()"
   ]
  },
  {
   "cell_type": "code",
   "execution_count": 13,
   "id": "f12d8136-5458-46ee-a0b5-db653cd13e76",
   "metadata": {},
   "outputs": [
    {
     "ename": "NameError",
     "evalue": "name 'pyplot' is not defined",
     "output_type": "error",
     "traceback": [
      "\u001b[1;31m---------------------------------------------------------------------------\u001b[0m",
      "\u001b[1;31mNameError\u001b[0m                                 Traceback (most recent call last)",
      "\u001b[1;32m~\\AppData\\Local\\Temp/ipykernel_14456/3800825765.py\u001b[0m in \u001b[0;36m<module>\u001b[1;34m\u001b[0m\n\u001b[1;32m----> 1\u001b[1;33m \u001b[0mpyplot\u001b[0m\u001b[1;33m.\u001b[0m\u001b[0mhist\u001b[0m\u001b[1;33m(\u001b[0m\u001b[0mwave8commonFI\u001b[0m\u001b[1;33m[\u001b[0m\u001b[1;34m'FI'\u001b[0m\u001b[1;33m]\u001b[0m\u001b[1;33m,\u001b[0m \u001b[1;36m21\u001b[0m\u001b[1;33m,\u001b[0m \u001b[0malpha\u001b[0m\u001b[1;33m=\u001b[0m\u001b[1;36m0.5\u001b[0m\u001b[1;33m,\u001b[0m \u001b[0mlabel\u001b[0m\u001b[1;33m=\u001b[0m\u001b[1;34m'Real'\u001b[0m\u001b[1;33m)\u001b[0m\u001b[1;33m\u001b[0m\u001b[1;33m\u001b[0m\u001b[0m\n\u001b[0m\u001b[0;32m      2\u001b[0m \u001b[0mpyplot\u001b[0m\u001b[1;33m.\u001b[0m\u001b[0mhist\u001b[0m\u001b[1;33m(\u001b[0m\u001b[0msvm\u001b[0m\u001b[1;33m[\u001b[0m\u001b[1;34m'FI'\u001b[0m\u001b[1;33m]\u001b[0m\u001b[1;33m,\u001b[0m \u001b[1;36m21\u001b[0m\u001b[1;33m,\u001b[0m \u001b[0malpha\u001b[0m\u001b[1;33m=\u001b[0m\u001b[1;36m0.5\u001b[0m\u001b[1;33m,\u001b[0m \u001b[0mlabel\u001b[0m\u001b[1;33m=\u001b[0m\u001b[1;34m'Predicted'\u001b[0m\u001b[1;33m)\u001b[0m\u001b[1;33m\u001b[0m\u001b[1;33m\u001b[0m\u001b[0m\n\u001b[0;32m      3\u001b[0m \u001b[0mpyplot\u001b[0m\u001b[1;33m.\u001b[0m\u001b[0mlegend\u001b[0m\u001b[1;33m(\u001b[0m\u001b[0mloc\u001b[0m\u001b[1;33m=\u001b[0m\u001b[1;34m'upper right'\u001b[0m\u001b[1;33m)\u001b[0m\u001b[1;33m\u001b[0m\u001b[1;33m\u001b[0m\u001b[0m\n\u001b[0;32m      4\u001b[0m \u001b[0mpyplot\u001b[0m\u001b[1;33m.\u001b[0m\u001b[0mshow\u001b[0m\u001b[1;33m(\u001b[0m\u001b[1;33m)\u001b[0m\u001b[1;33m\u001b[0m\u001b[1;33m\u001b[0m\u001b[0m\n",
      "\u001b[1;31mNameError\u001b[0m: name 'pyplot' is not defined"
     ]
    }
   ],
   "source": [
    "pyplot.hist(wave8commonFI['FI'], 21, alpha=0.5, label='Real')\n",
    "pyplot.hist(svm['FI'], 21, alpha=0.5, label='Predicted')\n",
    "pyplot.legend(loc='upper right')\n",
    "pyplot.show()"
   ]
  },
  {
   "cell_type": "code",
   "execution_count": 14,
   "id": "71fcd0df-7ee1-403f-ad08-0848b71847da",
   "metadata": {},
   "outputs": [
    {
     "data": {
      "image/png": "[encoded data removed]",
      "text/plain": [
       "<Figure size 1080x1080 with 6 Axes>"
      ]
     },
     "metadata": {
      "needs_background": "light"
     },
     "output_type": "display_data"
    }
   ],
   "source": [
    "fig, axs = plt.subplots(2, 3,figsize=(15,15))\n",
    "axs[0,0].hist(wave8commonFI['FI'], 21, alpha=0.5, label='Real')\n",
    "axs[0,0].hist(svm['FI'], 21, alpha=0.8, label='Predicted')\n",
    "axs[0,0].legend(loc='upper right')\n",
    "axs[0,0].set_title('Support Vector Machine')\n",
    "axs[0,1].hist(wave8commonFI['FI'], 21, alpha=0.5, label='Real')\n",
    "axs[0,1].hist(rf['FI'], 21, alpha=0.8, label='Predicted')\n",
    "axs[0,1].legend(loc='upper right')\n",
    "axs[0,1].set_title('Random Forest')\n",
    "axs[1,0].hist(wave8commonFI['FI'], 21, alpha=0.5, label='Real')\n",
    "axs[1,0].hist(gbdt['FI'], 21, alpha=0.8, label='Predicted')\n",
    "axs[1,0].legend(loc='upper right')\n",
    "axs[1,0].set_title('Gradient Boosting Regressor')\n",
    "axs[1,1].hist(wave8commonFI['FI'], 21, alpha=0.5, label='Real')\n",
    "axs[1,1].hist(dnn['FI'], 21, alpha=0.8, label='Predicted')\n",
    "axs[1,1].legend(loc='upper right')\n",
    "axs[1,1].set_title('Deep Neural Network')\n",
    "axs[1,2].hist(wave8commonFI['FI'], 21, alpha=0.5, label='Real')\n",
    "axs[1,2].hist(lr['FI'], 21, alpha=0.8, label='Predicted')\n",
    "axs[1,2].legend(loc='upper right')\n",
    "axs[1,2].set_title('Linear Regression')\n",
    "plt.savefig(r'C:\\Users\\Manos\\Desktop\\FI_all_models.png')"
   ]
  },
  {
   "cell_type": "code",
   "execution_count": null,
   "id": "1b158468-f2f0-4264-b1fa-fd7b03b610d7",
   "metadata": {},
   "outputs": [],
   "source": []
  }
 ],
 "metadata": {
  "kernelspec": {
   "display_name": "Python 3 (ipykernel)",
   "language": "python",
   "name": "python3"
  },
  "language_info": {
   "codemirror_mode": {
    "name": "ipython",
    "version": 3
   },
   "file_extension": ".py",
   "mimetype": "text/x-python",
   "name": "python",
   "nbconvert_exporter": "python",
   "pygments_lexer": "ipython3",
   "version": "3.9.7"
  }
 },
 "nbformat": 4,
 "nbformat_minor": 5
}
