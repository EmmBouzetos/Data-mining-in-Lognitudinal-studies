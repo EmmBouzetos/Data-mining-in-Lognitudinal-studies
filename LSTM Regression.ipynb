{
 "cells": [
  {
   "cell_type": "code",
   "execution_count": 1,
   "id": "a6aad740-4606-45cb-9dac-9023a849bb2b",
   "metadata": {},
   "outputs": [],
   "source": [
    "import pandas as pd\n",
    "import numpy as np\n",
    "import matplotlib.pyplot as plt\n",
    "from pandas import read_csv\n",
    "import math\n",
    "from keras.models import Sequential\n",
    "from keras.layers import Dense,Dropout\n",
    "from keras.layers import LSTM, Dense, Dropout, TimeDistributed, Conv1D, MaxPooling1D, Flatten, Bidirectional, Input, Flatten, Activation, Reshape, RepeatVector, Concatenate\n",
    "from sklearn.preprocessing import MinMaxScaler\n",
    "from sklearn.metrics import mean_squared_error\n",
    "from sklearn.metrics import confusion_matrix, classification_report, accuracy_score, f1_score\n",
    "from tensorflow.keras.optimizers import SGD,Adam\n",
    "from tensorflow.keras.layers import Bidirectional\n",
    "from sklearn.metrics import r2_score\n",
    "from tensorflow import keras"
   ]
  },
  {
   "cell_type": "markdown",
   "id": "e436c5b4-454b-4225-a2d6-734a230be578",
   "metadata": {},
   "source": [
    "Load dataframes"
   ]
  },
  {
   "cell_type": "code",
   "execution_count": 2,
   "id": "2168ffd5-c29a-4900-90ad-9dd03f08e993",
   "metadata": {},
   "outputs": [],
   "source": [
    "df1 = pd.read_csv (r'C:\\Users\\Manos\\OneDrive/Thesis Final/LSTM/Scaled_and_unidemensiolized_datasets\\wave2.tab',sep='\\t',low_memory=False)\n",
    "df2 = pd.read_csv (r'C:\\Users\\Manos\\OneDrive/Thesis Final/LSTM/Scaled_and_unidemensiolized_datasets\\wave4.tab',sep='\\t',low_memory=False)\n",
    "df3 = pd.read_csv (r'C:\\Users\\Manos\\OneDrive/Thesis Final/LSTM/Scaled_and_unidemensiolized_datasets\\wave6.tab',sep='\\t',low_memory=False)\n",
    "df4 = pd.read_csv (r'C:\\Users\\Manos\\OneDrive/Thesis Final/LSTM/Scaled_and_unidemensiolized_datasets\\wave8.tab',sep='\\t',low_memory=False)"
   ]
  },
  {
   "cell_type": "code",
   "execution_count": 3,
   "id": "23196b5c-7135-4502-8e02-68c161372083",
   "metadata": {},
   "outputs": [],
   "source": [
    "Dict= {1:df1,\n",
    "       2:df2,\n",
    "       3:df3,\n",
    "       4:df4\n",
    "       }"
   ]
  },
  {
   "cell_type": "markdown",
   "id": "8468659b-62bd-46e5-a51c-fb2f7ce1aa01",
   "metadata": {},
   "source": [
    "<h4> Prapare our 3d array for input</h4>\n",
    "I use the equal shaped datasets that i have prepared earlier\n",
    "for every sample's features seiries convert I append them to an array per wave"
   ]
  },
  {
   "cell_type": "code",
   "execution_count": 4,
   "id": "040bf596-56d1-4e7d-95ec-71409453e3b9",
   "metadata": {},
   "outputs": [],
   "source": [
    "masterlist=[]\n",
    "for i in range (0,Dict[1].shape[0]):\n",
    "    featurelist=[]\n",
    "    for k in range (1,len(Dict)+1):\n",
    "        featurelist.append(Dict[k].iloc[i].squeeze())\n",
    "    featurearr=np.array(featurelist) # convert list to np.array\n",
    "    masterlist.append(featurearr)#add array of seiries to masterlist\n",
    "Dataset=np.array(masterlist)"
   ]
  },
  {
   "cell_type": "code",
   "execution_count": 5,
   "id": "8ed66114-8b36-4807-95df-69572566513d",
   "metadata": {},
   "outputs": [
    {
     "data": {
      "text/plain": [
       "(2820, 4, 25)"
      ]
     },
     "execution_count": 5,
     "metadata": {},
     "output_type": "execute_result"
    }
   ],
   "source": [
    "Dataset.shape"
   ]
  },
  {
   "cell_type": "code",
   "execution_count": 6,
   "id": "05c2c665-7741-4494-b522-e0932db430d4",
   "metadata": {},
   "outputs": [],
   "source": [
    "n_steps=3\n",
    "X=Dataset[:,:n_steps,1:] #all individuals except id col and last step\n",
    "y=Dataset[:,n_steps,1:] #last dataset"
   ]
  },
  {
   "cell_type": "code",
   "execution_count": 7,
   "id": "43c98604-1b80-41e7-ba2c-1e44a449a56d",
   "metadata": {},
   "outputs": [
    {
     "name": "stdout",
     "output_type": "stream",
     "text": [
      "X shape == (2820, 3, 24).\n",
      "y shape == (2820, 24).\n"
     ]
    }
   ],
   "source": [
    "print('X shape == {}.'.format(X.shape))\n",
    "print('y shape == {}.'.format(y.shape))"
   ]
  },
  {
   "cell_type": "code",
   "execution_count": 8,
   "id": "0f82e3c7-9402-4e25-a5e0-3298197689c5",
   "metadata": {},
   "outputs": [],
   "source": [
    "from sklearn.model_selection import train_test_split\n",
    "X_train, X_test, y_train, y_test= train_test_split(X, y, random_state=32,train_size=0.8)"
   ]
  },
  {
   "cell_type": "markdown",
   "id": "fde7fc61-b8d6-42c5-80e8-3bd454ab39a7",
   "metadata": {},
   "source": [
    "opt = SGD(learning_rate=0.01)<h2> Define Model </h2>"
   ]
  },
  {
   "cell_type": "code",
   "execution_count": 9,
   "id": "b58cfe1f-6586-4d3d-aa9c-05c05b7b3672",
   "metadata": {},
   "outputs": [],
   "source": [
    "# opt = SGD(learning_rate=0.001)\n",
    "opt = keras.optimizers.Adam(learning_rate=0.00005)"
   ]
  },
  {
   "cell_type": "code",
   "execution_count": 10,
   "id": "e952976b-81a1-434b-81a6-06ee27b1af05",
   "metadata": {},
   "outputs": [],
   "source": [
    "# n_epochs=50\n",
    "# lr= 0.001\n",
    "# decay_rate = lr / n_epochs\n",
    "# momentum = 0.8\n",
    "# opt = SGD(learning_rate=lr, momentum=momentum, decay=decay_rate, nesterov=False)"
   ]
  },
  {
   "cell_type": "code",
   "execution_count": 11,
   "id": "20af76d3-da66-4bcd-a61b-f528d93e168a",
   "metadata": {},
   "outputs": [],
   "source": [
    "# opt = keras.optimizers.Adam(learning_rate=0.00005)\n",
    "# model= Sequential()\n",
    "# model.add(Conv1D(filters=24, kernel_size=2, activation='relu', input_shape=(X_train.shape[1],X_train.shape[2])))\n",
    "# model.add(Conv1D(filters=24, kernel_size=1, activation='relu'))\n",
    "# model.add(MaxPooling1D(pool_size=2))\n",
    "# model.add(Flatten())\n",
    "# model.add(RepeatVector(1))\n",
    "# model.add(LSTM(24,return_sequences=True,activation='relu'))\n",
    "# model.add(LSTM (12,activation='relu'))\n",
    "# model.add(Dropout(0.1))\n",
    "# model.add(Dense(X.shape[2], activation='linear'))\n",
    "# model.compile(loss = \"mse\", optimizer = opt , metrics=['mae'])\n",
    "\n",
    "\n"
   ]
  },
  {
   "cell_type": "code",
   "execution_count": 12,
   "id": "58c65fb6-5861-4073-8053-3bd5a7b7963b",
   "metadata": {},
   "outputs": [],
   "source": [
    "\n",
    "opt = keras.optimizers.Adam(learning_rate=0.00005)\n",
    "model= Sequential()\n",
    "model.add(Conv1D(filters=24, kernel_size=2, activation='relu', input_shape=(X_train.shape[1],X_train.shape[2])))\n",
    "model.add(MaxPooling1D(pool_size=1))\n",
    "model.add(Flatten())\n",
    "model.add(RepeatVector(1))\n",
    "model.add(LSTM(24,return_sequences=True,activation='relu'))\n",
    "model.add(LSTM (12,activation='relu'))\n",
    "model.add(Dropout(0.1))\n",
    "model.add(Dense(X.shape[2], activation='linear'))\n",
    "model.compile(loss = \"mse\", optimizer = opt , metrics=['mae'])\n"
   ]
  },
  {
   "cell_type": "code",
   "execution_count": 13,
   "id": "fd86e596-ba91-41ff-a5d6-e89e76ad92ec",
   "metadata": {},
   "outputs": [
    {
     "name": "stdout",
     "output_type": "stream",
     "text": [
      "Model: \"sequential\"\n",
      "_________________________________________________________________\n",
      " Layer (type)                Output Shape              Param #   \n",
      "=================================================================\n",
      " conv1d (Conv1D)             (None, 2, 24)             1176      \n",
      "                                                                 \n",
      " max_pooling1d (MaxPooling1D  (None, 2, 24)            0         \n",
      " )                                                               \n",
      "                                                                 \n",
      " flatten (Flatten)           (None, 48)                0         \n",
      "                                                                 \n",
      " repeat_vector (RepeatVector  (None, 1, 48)            0         \n",
      " )                                                               \n",
      "                                                                 \n",
      " lstm (LSTM)                 (None, 1, 24)             7008      \n",
      "                                                                 \n",
      " lstm_1 (LSTM)               (None, 12)                1776      \n",
      "                                                                 \n",
      " dropout (Dropout)           (None, 12)                0         \n",
      "                                                                 \n",
      " dense (Dense)               (None, 24)                312       \n",
      "                                                                 \n",
      "=================================================================\n",
      "Total params: 10,272\n",
      "Trainable params: 10,272\n",
      "Non-trainable params: 0\n",
      "_________________________________________________________________\n"
     ]
    }
   ],
   "source": [
    "model.summary()"
   ]
  },
  {
   "cell_type": "markdown",
   "id": "39ce8ca2-0c3a-4707-8a1c-bdf0387bed0e",
   "metadata": {},
   "source": [
    "<h4> fit the model </h4>"
   ]
  },
  {
   "cell_type": "code",
   "execution_count": 14,
   "id": "089f4258-995a-429b-a36b-66dda808814d",
   "metadata": {},
   "outputs": [
    {
     "name": "stdout",
     "output_type": "stream",
     "text": [
      "Epoch 1/35\n",
      "226/226 [==============================] - 3s 3ms/step - loss: 0.0697 - mae: 0.1864 - val_loss: 0.0703 - val_mae: 0.1825\n",
      "Epoch 2/35\n",
      "226/226 [==============================] - 0s 2ms/step - loss: 0.0648 - mae: 0.1746 - val_loss: 0.0647 - val_mae: 0.1700\n",
      "Epoch 3/35\n",
      "226/226 [==============================] - 1s 2ms/step - loss: 0.0578 - mae: 0.1619 - val_loss: 0.0550 - val_mae: 0.1562\n",
      "Epoch 4/35\n",
      "226/226 [==============================] - 1s 2ms/step - loss: 0.0457 - mae: 0.1478 - val_loss: 0.0413 - val_mae: 0.1371\n",
      "Epoch 5/35\n",
      "226/226 [==============================] - 0s 2ms/step - loss: 0.0354 - mae: 0.1292 - val_loss: 0.0326 - val_mae: 0.1161\n",
      "Epoch 6/35\n",
      "226/226 [==============================] - 0s 2ms/step - loss: 0.0284 - mae: 0.1136 - val_loss: 0.0266 - val_mae: 0.1005\n",
      "Epoch 7/35\n",
      "226/226 [==============================] - 0s 2ms/step - loss: 0.0239 - mae: 0.1015 - val_loss: 0.0223 - val_mae: 0.0883\n",
      "Epoch 8/35\n",
      "226/226 [==============================] - 0s 2ms/step - loss: 0.0204 - mae: 0.0919 - val_loss: 0.0192 - val_mae: 0.0790\n",
      "Epoch 9/35\n",
      "226/226 [==============================] - 0s 2ms/step - loss: 0.0178 - mae: 0.0847 - val_loss: 0.0169 - val_mae: 0.0723\n",
      "Epoch 10/35\n",
      "226/226 [==============================] - 0s 2ms/step - loss: 0.0159 - mae: 0.0794 - val_loss: 0.0153 - val_mae: 0.0673\n",
      "Epoch 11/35\n",
      "226/226 [==============================] - 0s 2ms/step - loss: 0.0145 - mae: 0.0745 - val_loss: 0.0142 - val_mae: 0.0635\n",
      "Epoch 12/35\n",
      "226/226 [==============================] - 0s 2ms/step - loss: 0.0136 - mae: 0.0710 - val_loss: 0.0133 - val_mae: 0.0608\n",
      "Epoch 13/35\n",
      "226/226 [==============================] - 0s 2ms/step - loss: 0.0129 - mae: 0.0691 - val_loss: 0.0127 - val_mae: 0.0586\n",
      "Epoch 14/35\n",
      "226/226 [==============================] - 1s 2ms/step - loss: 0.0121 - mae: 0.0661 - val_loss: 0.0122 - val_mae: 0.0566\n",
      "Epoch 15/35\n",
      "226/226 [==============================] - 1s 2ms/step - loss: 0.0116 - mae: 0.0643 - val_loss: 0.0119 - val_mae: 0.0555\n",
      "Epoch 16/35\n",
      "226/226 [==============================] - 0s 2ms/step - loss: 0.0114 - mae: 0.0632 - val_loss: 0.0116 - val_mae: 0.0540\n",
      "Epoch 17/35\n",
      "226/226 [==============================] - 0s 2ms/step - loss: 0.0112 - mae: 0.0619 - val_loss: 0.0115 - val_mae: 0.0533\n",
      "Epoch 18/35\n",
      "226/226 [==============================] - 0s 2ms/step - loss: 0.0110 - mae: 0.0615 - val_loss: 0.0113 - val_mae: 0.0528\n",
      "Epoch 19/35\n",
      "226/226 [==============================] - 0s 2ms/step - loss: 0.0108 - mae: 0.0599 - val_loss: 0.0112 - val_mae: 0.0522\n",
      "Epoch 20/35\n",
      "226/226 [==============================] - 0s 2ms/step - loss: 0.0107 - mae: 0.0600 - val_loss: 0.0111 - val_mae: 0.0517\n",
      "Epoch 21/35\n",
      "226/226 [==============================] - 0s 2ms/step - loss: 0.0105 - mae: 0.0592 - val_loss: 0.0111 - val_mae: 0.0514\n",
      "Epoch 22/35\n",
      "226/226 [==============================] - 0s 2ms/step - loss: 0.0103 - mae: 0.0580 - val_loss: 0.0111 - val_mae: 0.0512\n",
      "Epoch 23/35\n",
      "226/226 [==============================] - 0s 2ms/step - loss: 0.0101 - mae: 0.0570 - val_loss: 0.0110 - val_mae: 0.0509\n",
      "Epoch 24/35\n",
      "226/226 [==============================] - 0s 2ms/step - loss: 0.0102 - mae: 0.0573 - val_loss: 0.0109 - val_mae: 0.0511\n",
      "Epoch 25/35\n",
      "226/226 [==============================] - 1s 2ms/step - loss: 0.0099 - mae: 0.0562 - val_loss: 0.0109 - val_mae: 0.0506\n",
      "Epoch 26/35\n",
      "226/226 [==============================] - 1s 3ms/step - loss: 0.0100 - mae: 0.0570 - val_loss: 0.0108 - val_mae: 0.0506\n",
      "Epoch 27/35\n",
      "115/226 [==============>...............] - ETA: 0s - loss: 0.0092 - mae: 0.0549"
     ]
    },
    {
     "ename": "KeyboardInterrupt",
     "evalue": "",
     "output_type": "error",
     "traceback": [
      "\u001b[1;31m---------------------------------------------------------------------------\u001b[0m",
      "\u001b[1;31mKeyboardInterrupt\u001b[0m                         Traceback (most recent call last)",
      "\u001b[1;32m~\\AppData\\Local\\Temp/ipykernel_4572/2243215480.py\u001b[0m in \u001b[0;36m<module>\u001b[1;34m\u001b[0m\n\u001b[1;32m----> 1\u001b[1;33m \u001b[0mhistory\u001b[0m \u001b[1;33m=\u001b[0m \u001b[0mmodel\u001b[0m\u001b[1;33m.\u001b[0m\u001b[0mfit\u001b[0m\u001b[1;33m(\u001b[0m\u001b[0mX_train\u001b[0m\u001b[1;33m,\u001b[0m \u001b[0my_train\u001b[0m\u001b[1;33m,\u001b[0m \u001b[0mepochs\u001b[0m\u001b[1;33m=\u001b[0m\u001b[1;36m35\u001b[0m\u001b[1;33m,\u001b[0m\u001b[0mvalidation_split\u001b[0m\u001b[1;33m=\u001b[0m\u001b[1;36m0.2\u001b[0m\u001b[1;33m,\u001b[0m \u001b[0mbatch_size\u001b[0m\u001b[1;33m=\u001b[0m\u001b[1;36m8\u001b[0m\u001b[1;33m,\u001b[0m \u001b[0mverbose\u001b[0m\u001b[1;33m=\u001b[0m\u001b[1;36m1\u001b[0m\u001b[1;33m)\u001b[0m\u001b[1;33m\u001b[0m\u001b[1;33m\u001b[0m\u001b[0m\n\u001b[0m",
      "\u001b[1;32m~\\anaconda3\\lib\\site-packages\\keras\\utils\\traceback_utils.py\u001b[0m in \u001b[0;36merror_handler\u001b[1;34m(*args, **kwargs)\u001b[0m\n\u001b[0;32m     62\u001b[0m     \u001b[0mfiltered_tb\u001b[0m \u001b[1;33m=\u001b[0m \u001b[1;32mNone\u001b[0m\u001b[1;33m\u001b[0m\u001b[1;33m\u001b[0m\u001b[0m\n\u001b[0;32m     63\u001b[0m     \u001b[1;32mtry\u001b[0m\u001b[1;33m:\u001b[0m\u001b[1;33m\u001b[0m\u001b[1;33m\u001b[0m\u001b[0m\n\u001b[1;32m---> 64\u001b[1;33m       \u001b[1;32mreturn\u001b[0m \u001b[0mfn\u001b[0m\u001b[1;33m(\u001b[0m\u001b[1;33m*\u001b[0m\u001b[0margs\u001b[0m\u001b[1;33m,\u001b[0m \u001b[1;33m**\u001b[0m\u001b[0mkwargs\u001b[0m\u001b[1;33m)\u001b[0m\u001b[1;33m\u001b[0m\u001b[1;33m\u001b[0m\u001b[0m\n\u001b[0m\u001b[0;32m     65\u001b[0m     \u001b[1;32mexcept\u001b[0m \u001b[0mException\u001b[0m \u001b[1;32mas\u001b[0m \u001b[0me\u001b[0m\u001b[1;33m:\u001b[0m  \u001b[1;31m# pylint: disable=broad-except\u001b[0m\u001b[1;33m\u001b[0m\u001b[1;33m\u001b[0m\u001b[0m\n\u001b[0;32m     66\u001b[0m       \u001b[0mfiltered_tb\u001b[0m \u001b[1;33m=\u001b[0m \u001b[0m_process_traceback_frames\u001b[0m\u001b[1;33m(\u001b[0m\u001b[0me\u001b[0m\u001b[1;33m.\u001b[0m\u001b[0m__traceback__\u001b[0m\u001b[1;33m)\u001b[0m\u001b[1;33m\u001b[0m\u001b[1;33m\u001b[0m\u001b[0m\n",
      "\u001b[1;32m~\\anaconda3\\lib\\site-packages\\keras\\engine\\training.py\u001b[0m in \u001b[0;36mfit\u001b[1;34m(self, x, y, batch_size, epochs, verbose, callbacks, validation_split, validation_data, shuffle, class_weight, sample_weight, initial_epoch, steps_per_epoch, validation_steps, validation_batch_size, validation_freq, max_queue_size, workers, use_multiprocessing)\u001b[0m\n\u001b[0;32m   1382\u001b[0m                 _r=1):\n\u001b[0;32m   1383\u001b[0m               \u001b[0mcallbacks\u001b[0m\u001b[1;33m.\u001b[0m\u001b[0mon_train_batch_begin\u001b[0m\u001b[1;33m(\u001b[0m\u001b[0mstep\u001b[0m\u001b[1;33m)\u001b[0m\u001b[1;33m\u001b[0m\u001b[1;33m\u001b[0m\u001b[0m\n\u001b[1;32m-> 1384\u001b[1;33m               \u001b[0mtmp_logs\u001b[0m \u001b[1;33m=\u001b[0m \u001b[0mself\u001b[0m\u001b[1;33m.\u001b[0m\u001b[0mtrain_function\u001b[0m\u001b[1;33m(\u001b[0m\u001b[0miterator\u001b[0m\u001b[1;33m)\u001b[0m\u001b[1;33m\u001b[0m\u001b[1;33m\u001b[0m\u001b[0m\n\u001b[0m\u001b[0;32m   1385\u001b[0m               \u001b[1;32mif\u001b[0m \u001b[0mdata_handler\u001b[0m\u001b[1;33m.\u001b[0m\u001b[0mshould_sync\u001b[0m\u001b[1;33m:\u001b[0m\u001b[1;33m\u001b[0m\u001b[1;33m\u001b[0m\u001b[0m\n\u001b[0;32m   1386\u001b[0m                 \u001b[0mcontext\u001b[0m\u001b[1;33m.\u001b[0m\u001b[0masync_wait\u001b[0m\u001b[1;33m(\u001b[0m\u001b[1;33m)\u001b[0m\u001b[1;33m\u001b[0m\u001b[1;33m\u001b[0m\u001b[0m\n",
      "\u001b[1;32m~\\anaconda3\\lib\\site-packages\\tensorflow\\python\\util\\traceback_utils.py\u001b[0m in \u001b[0;36merror_handler\u001b[1;34m(*args, **kwargs)\u001b[0m\n\u001b[0;32m    148\u001b[0m     \u001b[0mfiltered_tb\u001b[0m \u001b[1;33m=\u001b[0m \u001b[1;32mNone\u001b[0m\u001b[1;33m\u001b[0m\u001b[1;33m\u001b[0m\u001b[0m\n\u001b[0;32m    149\u001b[0m     \u001b[1;32mtry\u001b[0m\u001b[1;33m:\u001b[0m\u001b[1;33m\u001b[0m\u001b[1;33m\u001b[0m\u001b[0m\n\u001b[1;32m--> 150\u001b[1;33m       \u001b[1;32mreturn\u001b[0m \u001b[0mfn\u001b[0m\u001b[1;33m(\u001b[0m\u001b[1;33m*\u001b[0m\u001b[0margs\u001b[0m\u001b[1;33m,\u001b[0m \u001b[1;33m**\u001b[0m\u001b[0mkwargs\u001b[0m\u001b[1;33m)\u001b[0m\u001b[1;33m\u001b[0m\u001b[1;33m\u001b[0m\u001b[0m\n\u001b[0m\u001b[0;32m    151\u001b[0m     \u001b[1;32mexcept\u001b[0m \u001b[0mException\u001b[0m \u001b[1;32mas\u001b[0m \u001b[0me\u001b[0m\u001b[1;33m:\u001b[0m\u001b[1;33m\u001b[0m\u001b[1;33m\u001b[0m\u001b[0m\n\u001b[0;32m    152\u001b[0m       \u001b[0mfiltered_tb\u001b[0m \u001b[1;33m=\u001b[0m \u001b[0m_process_traceback_frames\u001b[0m\u001b[1;33m(\u001b[0m\u001b[0me\u001b[0m\u001b[1;33m.\u001b[0m\u001b[0m__traceback__\u001b[0m\u001b[1;33m)\u001b[0m\u001b[1;33m\u001b[0m\u001b[1;33m\u001b[0m\u001b[0m\n",
      "\u001b[1;32m~\\anaconda3\\lib\\site-packages\\tensorflow\\python\\eager\\def_function.py\u001b[0m in \u001b[0;36m__call__\u001b[1;34m(self, *args, **kwds)\u001b[0m\n\u001b[0;32m    913\u001b[0m \u001b[1;33m\u001b[0m\u001b[0m\n\u001b[0;32m    914\u001b[0m       \u001b[1;32mwith\u001b[0m \u001b[0mOptionalXlaContext\u001b[0m\u001b[1;33m(\u001b[0m\u001b[0mself\u001b[0m\u001b[1;33m.\u001b[0m\u001b[0m_jit_compile\u001b[0m\u001b[1;33m)\u001b[0m\u001b[1;33m:\u001b[0m\u001b[1;33m\u001b[0m\u001b[1;33m\u001b[0m\u001b[0m\n\u001b[1;32m--> 915\u001b[1;33m         \u001b[0mresult\u001b[0m \u001b[1;33m=\u001b[0m \u001b[0mself\u001b[0m\u001b[1;33m.\u001b[0m\u001b[0m_call\u001b[0m\u001b[1;33m(\u001b[0m\u001b[1;33m*\u001b[0m\u001b[0margs\u001b[0m\u001b[1;33m,\u001b[0m \u001b[1;33m**\u001b[0m\u001b[0mkwds\u001b[0m\u001b[1;33m)\u001b[0m\u001b[1;33m\u001b[0m\u001b[1;33m\u001b[0m\u001b[0m\n\u001b[0m\u001b[0;32m    916\u001b[0m \u001b[1;33m\u001b[0m\u001b[0m\n\u001b[0;32m    917\u001b[0m       \u001b[0mnew_tracing_count\u001b[0m \u001b[1;33m=\u001b[0m \u001b[0mself\u001b[0m\u001b[1;33m.\u001b[0m\u001b[0mexperimental_get_tracing_count\u001b[0m\u001b[1;33m(\u001b[0m\u001b[1;33m)\u001b[0m\u001b[1;33m\u001b[0m\u001b[1;33m\u001b[0m\u001b[0m\n",
      "\u001b[1;32m~\\anaconda3\\lib\\site-packages\\tensorflow\\python\\eager\\def_function.py\u001b[0m in \u001b[0;36m_call\u001b[1;34m(self, *args, **kwds)\u001b[0m\n\u001b[0;32m    945\u001b[0m       \u001b[1;31m# In this case we have created variables on the first call, so we run the\u001b[0m\u001b[1;33m\u001b[0m\u001b[1;33m\u001b[0m\u001b[0m\n\u001b[0;32m    946\u001b[0m       \u001b[1;31m# defunned version which is guaranteed to never create variables.\u001b[0m\u001b[1;33m\u001b[0m\u001b[1;33m\u001b[0m\u001b[0m\n\u001b[1;32m--> 947\u001b[1;33m       \u001b[1;32mreturn\u001b[0m \u001b[0mself\u001b[0m\u001b[1;33m.\u001b[0m\u001b[0m_stateless_fn\u001b[0m\u001b[1;33m(\u001b[0m\u001b[1;33m*\u001b[0m\u001b[0margs\u001b[0m\u001b[1;33m,\u001b[0m \u001b[1;33m**\u001b[0m\u001b[0mkwds\u001b[0m\u001b[1;33m)\u001b[0m  \u001b[1;31m# pylint: disable=not-callable\u001b[0m\u001b[1;33m\u001b[0m\u001b[1;33m\u001b[0m\u001b[0m\n\u001b[0m\u001b[0;32m    948\u001b[0m     \u001b[1;32melif\u001b[0m \u001b[0mself\u001b[0m\u001b[1;33m.\u001b[0m\u001b[0m_stateful_fn\u001b[0m \u001b[1;32mis\u001b[0m \u001b[1;32mnot\u001b[0m \u001b[1;32mNone\u001b[0m\u001b[1;33m:\u001b[0m\u001b[1;33m\u001b[0m\u001b[1;33m\u001b[0m\u001b[0m\n\u001b[0;32m    949\u001b[0m       \u001b[1;31m# Release the lock early so that multiple threads can perform the call\u001b[0m\u001b[1;33m\u001b[0m\u001b[1;33m\u001b[0m\u001b[0m\n",
      "\u001b[1;32m~\\anaconda3\\lib\\site-packages\\tensorflow\\python\\eager\\function.py\u001b[0m in \u001b[0;36m__call__\u001b[1;34m(self, *args, **kwargs)\u001b[0m\n\u001b[0;32m   2954\u001b[0m       (graph_function,\n\u001b[0;32m   2955\u001b[0m        filtered_flat_args) = self._maybe_define_function(args, kwargs)\n\u001b[1;32m-> 2956\u001b[1;33m     return graph_function._call_flat(\n\u001b[0m\u001b[0;32m   2957\u001b[0m         filtered_flat_args, captured_inputs=graph_function.captured_inputs)  # pylint: disable=protected-access\n\u001b[0;32m   2958\u001b[0m \u001b[1;33m\u001b[0m\u001b[0m\n",
      "\u001b[1;32m~\\anaconda3\\lib\\site-packages\\tensorflow\\python\\eager\\function.py\u001b[0m in \u001b[0;36m_call_flat\u001b[1;34m(self, args, captured_inputs, cancellation_manager)\u001b[0m\n\u001b[0;32m   1851\u001b[0m         and executing_eagerly):\n\u001b[0;32m   1852\u001b[0m       \u001b[1;31m# No tape is watching; skip to running the function.\u001b[0m\u001b[1;33m\u001b[0m\u001b[1;33m\u001b[0m\u001b[0m\n\u001b[1;32m-> 1853\u001b[1;33m       return self._build_call_outputs(self._inference_function.call(\n\u001b[0m\u001b[0;32m   1854\u001b[0m           ctx, args, cancellation_manager=cancellation_manager))\n\u001b[0;32m   1855\u001b[0m     forward_backward = self._select_forward_and_backward_functions(\n",
      "\u001b[1;32m~\\anaconda3\\lib\\site-packages\\tensorflow\\python\\eager\\function.py\u001b[0m in \u001b[0;36mcall\u001b[1;34m(self, ctx, args, cancellation_manager)\u001b[0m\n\u001b[0;32m    497\u001b[0m       \u001b[1;32mwith\u001b[0m \u001b[0m_InterpolateFunctionError\u001b[0m\u001b[1;33m(\u001b[0m\u001b[0mself\u001b[0m\u001b[1;33m)\u001b[0m\u001b[1;33m:\u001b[0m\u001b[1;33m\u001b[0m\u001b[1;33m\u001b[0m\u001b[0m\n\u001b[0;32m    498\u001b[0m         \u001b[1;32mif\u001b[0m \u001b[0mcancellation_manager\u001b[0m \u001b[1;32mis\u001b[0m \u001b[1;32mNone\u001b[0m\u001b[1;33m:\u001b[0m\u001b[1;33m\u001b[0m\u001b[1;33m\u001b[0m\u001b[0m\n\u001b[1;32m--> 499\u001b[1;33m           outputs = execute.execute(\n\u001b[0m\u001b[0;32m    500\u001b[0m               \u001b[0mstr\u001b[0m\u001b[1;33m(\u001b[0m\u001b[0mself\u001b[0m\u001b[1;33m.\u001b[0m\u001b[0msignature\u001b[0m\u001b[1;33m.\u001b[0m\u001b[0mname\u001b[0m\u001b[1;33m)\u001b[0m\u001b[1;33m,\u001b[0m\u001b[1;33m\u001b[0m\u001b[1;33m\u001b[0m\u001b[0m\n\u001b[0;32m    501\u001b[0m               \u001b[0mnum_outputs\u001b[0m\u001b[1;33m=\u001b[0m\u001b[0mself\u001b[0m\u001b[1;33m.\u001b[0m\u001b[0m_num_outputs\u001b[0m\u001b[1;33m,\u001b[0m\u001b[1;33m\u001b[0m\u001b[1;33m\u001b[0m\u001b[0m\n",
      "\u001b[1;32m~\\anaconda3\\lib\\site-packages\\tensorflow\\python\\eager\\execute.py\u001b[0m in \u001b[0;36mquick_execute\u001b[1;34m(op_name, num_outputs, inputs, attrs, ctx, name)\u001b[0m\n\u001b[0;32m     52\u001b[0m   \u001b[1;32mtry\u001b[0m\u001b[1;33m:\u001b[0m\u001b[1;33m\u001b[0m\u001b[1;33m\u001b[0m\u001b[0m\n\u001b[0;32m     53\u001b[0m     \u001b[0mctx\u001b[0m\u001b[1;33m.\u001b[0m\u001b[0mensure_initialized\u001b[0m\u001b[1;33m(\u001b[0m\u001b[1;33m)\u001b[0m\u001b[1;33m\u001b[0m\u001b[1;33m\u001b[0m\u001b[0m\n\u001b[1;32m---> 54\u001b[1;33m     tensors = pywrap_tfe.TFE_Py_Execute(ctx._handle, device_name, op_name,\n\u001b[0m\u001b[0;32m     55\u001b[0m                                         inputs, attrs, num_outputs)\n\u001b[0;32m     56\u001b[0m   \u001b[1;32mexcept\u001b[0m \u001b[0mcore\u001b[0m\u001b[1;33m.\u001b[0m\u001b[0m_NotOkStatusException\u001b[0m \u001b[1;32mas\u001b[0m \u001b[0me\u001b[0m\u001b[1;33m:\u001b[0m\u001b[1;33m\u001b[0m\u001b[1;33m\u001b[0m\u001b[0m\n",
      "\u001b[1;31mKeyboardInterrupt\u001b[0m: "
     ]
    }
   ],
   "source": [
    "history = model.fit(X_train, y_train, epochs=35,validation_split=0.2, batch_size=8, verbose=1)"
   ]
  },
  {
   "cell_type": "code",
   "execution_count": null,
   "id": "38319a6e-c144-488b-a228-b1074017d9c4",
   "metadata": {},
   "outputs": [],
   "source": [
    "loss=history.history['loss']\n",
    "val_loss=history.history['val_loss']\n",
    "epochs= range(1,len(loss)+1)\n",
    "plt.plot(epochs, loss, 'y',label='Training Loss')\n",
    "plt.plot(epochs, val_loss, 'r', label='Validation loss')\n",
    "plt.title('Training and validation loss')\n",
    "plt.xlabel('Epochs')\n",
    "plt.ylabel('Loss')\n",
    "plt.legend()\n",
    "plt.savefig('Loss_for_wave8_output.png')\n",
    "plt.show"
   ]
  },
  {
   "cell_type": "code",
   "execution_count": null,
   "id": "42bc3d1a-bd06-42f5-8880-1705e5e71dd4",
   "metadata": {},
   "outputs": [],
   "source": [
    "acc= history.history['mae']\n",
    "val_acc= history.history['val_mae']\n",
    "plt.plot(epochs,acc, 'b', label='Trainining MAE')\n",
    "plt.plot(epochs, val_acc, 'g', label='Validation MAE')\n",
    "plt.title('Training and validation MAE')\n",
    "plt.xlabel('Epochs')\n",
    "plt.ylabel('MAE')\n",
    "plt.legend()\n",
    "plt.savefig(r'Accuracy_for_wave8_output.png')\n",
    "plt.show()"
   ]
  },
  {
   "cell_type": "code",
   "execution_count": null,
   "id": "7b92283d-b635-4430-b8a1-b12260a470ae",
   "metadata": {},
   "outputs": [],
   "source": [
    "acc= history.history['mae']\n",
    "val_acc= history.history['val_mae']\n",
    "plt.plot(epochs,acc, 'b', label='Trainining MAE')\n",
    "plt.plot(epochs, val_acc, 'g', label='Validation MAE')\n",
    "plt.title('Training and validation MAE')\n",
    "plt.xlabel('Epochs')\n",
    "plt.ylabel('MAE')\n",
    "plt.legend()\n",
    "plt.savefig(r'Accuracy_for_wave8_output.png')\n",
    "plt.show()"
   ]
  },
  {
   "cell_type": "code",
   "execution_count": null,
   "id": "47dfa03e-f6e9-4ec4-b4b9-6456cc18a81a",
   "metadata": {},
   "outputs": [],
   "source": [
    "y_pred = model.predict(X_test)"
   ]
  },
  {
   "cell_type": "code",
   "execution_count": null,
   "id": "d291d2af-4729-420f-9f63-a19b8fdf1e8b",
   "metadata": {},
   "outputs": [],
   "source": [
    "from sklearn.metrics import mean_absolute_error, r2_score, mean_absolute_percentage_error,mean_squared_error\n",
    "mse=mean_squared_error(y_pred, y_test)\n",
    "mae = mean_absolute_error(y_pred, y_test)\n",
    "mape = mean_absolute_percentage_error(y_pred, y_test)\n",
    "r2=r2_score(y_pred, y_test)\n",
    "adjr2=1-(((1-r2)*(len(y)-1))/((len(y)-X.shape[1]-1)))\n",
    "print('MSE: %.3f' % mse)\n",
    "print('MAE: %.3f' % mae)\n",
    "print('MAPE: %.3f' % mape)\n",
    "print('r2: %.3f' % r2)\n",
    "print('adjr2: %.3f' % adjr2)"
   ]
  },
  {
   "cell_type": "markdown",
   "id": "e364a750-1c1f-49a0-8165-0b7952385ec5",
   "metadata": {},
   "source": [
    "LSTM + conv +adam\n",
    "\n",
    "LSTM + conv opt\n",
    "MSE: 0.006\n",
    "MAE: 0.039\n",
    "MAPE: 0.416\n",
    "r2: -64.363\n",
    "adjr2: -64.432\n",
    "\n",
    "\n",
    "LSTM opt\n",
    "MSE: 0.005\n",
    "MAE: 0.036\n",
    "MAPE: 0.303\n",
    "r2: -132.508\n",
    "adjr2: -132.650"
   ]
  },
  {
   "cell_type": "code",
   "execution_count": null,
   "id": "e68bf2c4-bc03-43fb-9f3a-8258be3f4b61",
   "metadata": {},
   "outputs": [],
   "source": [
    "#load scaler back\n",
    "from pickle import load\n",
    "scaler = load(open('scaler.pkl', 'rb'))"
   ]
  },
  {
   "cell_type": "code",
   "execution_count": null,
   "id": "e79d3d9e-722c-4cb0-b394-60fe5df69664",
   "metadata": {},
   "outputs": [],
   "source": [
    " #reverse transform problem with underfitting\n",
    "#pred=scaler.inverse_transform(pred)"
   ]
  },
  {
   "cell_type": "markdown",
   "id": "b2503abc-b810-4cbd-9b1c-18430664baed",
   "metadata": {},
   "source": [
    "\n",
    "make array to pd frame"
   ]
  },
  {
   "cell_type": "code",
   "execution_count": null,
   "id": "18cf72c1-909e-4086-bbe6-e1b153af13f4",
   "metadata": {},
   "outputs": [],
   "source": [
    "feat_list=['idauniq','sys1','sys2','sys3', 'dias1','dias2', 'dias3','pulse1','pulse2','pulse3','cfib','chol','hdl','trig','ldl',\n",
    "           'rtin','hscrp','hgb','hba1c','mmgsd1','mmgsd2','mmgsd3','mmgsn1','mmgsn2','mmgsn3']\n",
    "#pred = pd.DataFrame(pred, columns = feat_list[1:])"
   ]
  },
  {
   "cell_type": "markdown",
   "id": "c974d80d-7d32-43a3-b664-8145ffdadfb4",
   "metadata": {},
   "source": [
    "merge IDs again"
   ]
  },
  {
   "cell_type": "code",
   "execution_count": null,
   "id": "d864f576-b69b-43e3-9e04-ded01b07f50e",
   "metadata": {},
   "outputs": [],
   "source": [
    "pred = pd.concat([df2.iloc[:,0], pred], axis=1, join=\"inner\")"
   ]
  },
  {
   "cell_type": "markdown",
   "id": "029b0dc4-5707-4864-9539-3a9480208d43",
   "metadata": {},
   "source": [
    "unscale original dataset"
   ]
  },
  {
   "cell_type": "code",
   "execution_count": null,
   "id": "6f84834c-b80a-490f-be1f-0833160eff7c",
   "metadata": {},
   "outputs": [],
   "source": [
    "#df4=scaler.inverse_transform(df4.iloc[:,1:])"
   ]
  },
  {
   "cell_type": "markdown",
   "id": "5414d54a-f8c5-4f1e-91e1-04a60a2e7394",
   "metadata": {},
   "source": [
    "make df4 as pd"
   ]
  },
  {
   "cell_type": "code",
   "execution_count": null,
   "id": "15157003-2403-476d-9817-68e1d0bd42be",
   "metadata": {},
   "outputs": [],
   "source": [
    "#df4 = pd.DataFrame(df4, columns = feat_list[1:])\n",
    "#df4 = pd.concat([df2.iloc[:,0], df4], axis=1, join=\"inner\")"
   ]
  },
  {
   "cell_type": "code",
   "execution_count": null,
   "id": "94b0e53b-490b-4cdd-8cdc-36f53ed60e23",
   "metadata": {},
   "outputs": [],
   "source": []
  },
  {
   "cell_type": "code",
   "execution_count": null,
   "id": "df057170-8cd9-4d01-88ea-4fc4a6f5f685",
   "metadata": {},
   "outputs": [],
   "source": [
    "r2_score(df3.iloc[:,1:], pred)"
   ]
  },
  {
   "cell_type": "code",
   "execution_count": null,
   "id": "30c3c82d-a7e7-4c00-8738-fe41a2d0c0fa",
   "metadata": {},
   "outputs": [],
   "source": [
    "abjr2=1-(1-0.19)"
   ]
  },
  {
   "cell_type": "code",
   "execution_count": null,
   "id": "53782f36-bec3-47a8-bc96-d50d7b521068",
   "metadata": {},
   "outputs": [],
   "source": [
    "#pred.to_csv(r'C:\\Users\\Manos/OneDrive/Thesis Final/LSTM/Scaled_and_unidemensiolized_datasets\\predicted_wave8.tab',sep='\\t',index=False)"
   ]
  },
  {
   "cell_type": "code",
   "execution_count": null,
   "id": "2621565a-0764-4ba1-997b-36207b50e89f",
   "metadata": {},
   "outputs": [],
   "source": [
    "from sklearn.metrics import mean_squared_error\n",
    "mean_squared_error(df4, pred)"
   ]
  },
  {
   "cell_type": "code",
   "execution_count": null,
   "id": "5d86f962-b63e-4a37-9905-65021a04747e",
   "metadata": {},
   "outputs": [],
   "source": [
    "pred"
   ]
  },
  {
   "cell_type": "code",
   "execution_count": null,
   "id": "7836bc13-08ac-480f-8498-31888ce3820a",
   "metadata": {},
   "outputs": [],
   "source": [
    "df4.iloc[:,1:]"
   ]
  },
  {
   "cell_type": "code",
   "execution_count": null,
   "id": "141708dc-1747-46ee-8645-8e8529b99543",
   "metadata": {},
   "outputs": [],
   "source": []
  }
 ],
 "metadata": {
  "kernelspec": {
   "display_name": "Python 3 (ipykernel)",
   "language": "python",
   "name": "python3"
  },
  "language_info": {
   "codemirror_mode": {
    "name": "ipython",
    "version": 3
   },
   "file_extension": ".py",
   "mimetype": "text/x-python",
   "name": "python",
   "nbconvert_exporter": "python",
   "pygments_lexer": "ipython3",
   "version": "3.9.7"
  }
 },
 "nbformat": 4,
 "nbformat_minor": 5
}
