{
 "cells": [
  {
   "cell_type": "code",
   "execution_count": 11,
   "id": "ef86a1af-06ce-4599-8c4e-440658cd9df3",
   "metadata": {},
   "outputs": [],
   "source": [
    "import pandas as pd\n",
    "import numpy as np\n",
    "import matplotlib.pyplot as plt\n",
    "from pandas import read_csv\n",
    "import math\n",
    "from keras.models import Sequential\n",
    "from keras.layers import Dense,Dropout\n",
    "from keras.layers import LSTM, Dense, Dropout, TimeDistributed, Conv1D,Conv2D, MaxPooling1D, Flatten, Bidirectional, Input, Flatten, Activation, Reshape, RepeatVector, Concatenate\n",
    "from sklearn.preprocessing import MinMaxScaler\n",
    "from sklearn.metrics import mean_squared_error\n",
    "from sklearn.metrics import confusion_matrix, classification_report, accuracy_score, f1_score\n",
    "from tensorflow.keras.optimizers import SGD,Adam\n",
    "from tensorflow.keras.layers import Bidirectional\n",
    "from sklearn.metrics import r2_score\n",
    "from tensorflow import keras"
   ]
  },
  {
   "cell_type": "code",
   "execution_count": 12,
   "id": "0d50165a-b898-4ea2-b89e-d728fd02b104",
   "metadata": {},
   "outputs": [],
   "source": [
    "df1 = pd.read_csv (r'C:\\Users\\Manos\\OneDrive/Thesis Final/LSTM/Scaled_and_unidemensiolized_datasets\\wave2.tab',sep='\\t',low_memory=False)\n",
    "df2 = pd.read_csv (r'C:\\Users\\Manos\\OneDrive/Thesis Final/LSTM/Scaled_and_unidemensiolized_datasets\\wave4.tab',sep='\\t',low_memory=False)\n",
    "df3 = pd.read_csv (r'C:\\Users\\Manos\\OneDrive/Thesis Final/LSTM/Scaled_and_unidemensiolized_datasets\\wave6.tab',sep='\\t',low_memory=False)\n",
    "df4 = pd.read_csv (r'C:\\Users\\Manos\\OneDrive/Thesis Final/LSTM/Scaled_and_unidemensiolized_datasets\\wave8.tab',sep='\\t',low_memory=False)"
   ]
  },
  {
   "cell_type": "code",
   "execution_count": 13,
   "id": "cbb2df47-7182-4956-a666-56d4aa0c969b",
   "metadata": {},
   "outputs": [],
   "source": [
    "Dict= {1:df1,\n",
    "       2:df2,\n",
    "       3:df3,\n",
    "       4:df4\n",
    "       }"
   ]
  },
  {
   "cell_type": "code",
   "execution_count": 14,
   "id": "b0a05583-9794-47e9-99f1-ef1130abc7a6",
   "metadata": {},
   "outputs": [],
   "source": [
    "masterlist=[]\n",
    "for i in range (0,Dict[1].shape[0]):\n",
    "    featurelist=[]\n",
    "    for k in range (1,len(Dict)+1):\n",
    "        featurelist.append(Dict[k].iloc[i].squeeze())\n",
    "    featurearr=np.array(featurelist) # convert list to np.array\n",
    "    masterlist.append(featurearr)#add array of seiries to masterlist\n",
    "Dataset=np.array(masterlist)"
   ]
  },
  {
   "cell_type": "code",
   "execution_count": 15,
   "id": "dd9d5cb0-940f-4799-887c-d142f8eb3101",
   "metadata": {},
   "outputs": [],
   "source": [
    "n_steps=3\n",
    "X=Dataset[:,:n_steps,:] \n",
    "y=Dataset[:,n_steps,:] "
   ]
  },
  {
   "cell_type": "code",
   "execution_count": 16,
   "id": "7aedea9a-1b41-403a-9585-5c8713e3e1b5",
   "metadata": {},
   "outputs": [],
   "source": [
    "from sklearn.model_selection import train_test_split\n",
    "X_train, X_test, y_train, y_test= train_test_split(X, y, random_state=32)"
   ]
  },
  {
   "cell_type": "markdown",
   "id": "57d88129-91d1-4baf-a975-73e37a178637",
   "metadata": {},
   "source": [
    "Remove ids\n"
   ]
  },
  {
   "cell_type": "code",
   "execution_count": 17,
   "id": "4d73d34c-79a0-4473-9418-40e8b778b500",
   "metadata": {},
   "outputs": [],
   "source": [
    "X_trainIDs=X_train[:,:,0]\n",
    "y_trainIDs=y_train[:,0]\n",
    "X_testIDs=X_test[:,:,0]\n",
    "y_testIDs=y_test[:,0]"
   ]
  },
  {
   "cell_type": "code",
   "execution_count": 18,
   "id": "1febd81c-57db-42cf-b7d0-d43a2513512c",
   "metadata": {},
   "outputs": [],
   "source": [
    "X_train=X_train[:,:,1:]\n",
    "X_test=X_test[:,:,1:]\n",
    "y_train=y_train[:,1:]\n",
    "y_test=y_test[:,1:]"
   ]
  },
  {
   "cell_type": "code",
   "execution_count": 20,
   "id": "8533cba1-2910-41dc-9293-0a2c0f797685",
   "metadata": {},
   "outputs": [],
   "source": [
    "# opt = SGD(learning_rate=0.001)\n",
    "opt = keras.optimizers.Adam(learning_rate=0.00005)"
   ]
  },
  {
   "cell_type": "code",
   "execution_count": 46,
   "id": "c6f1f1bf-d3ed-47b5-81ba-015d7a0898eb",
   "metadata": {},
   "outputs": [],
   "source": [
    "model= Sequential()\n",
    "model.add(Conv1D(filters=24, kernel_size=2, activation='relu', input_shape=(X_train.shape[1],X_train.shape[2])))\n",
    "model.add(Flatten())\n",
    "model.add(Dropout(0.1))\n",
    "model.add(Dense(X_train.shape[2], activation='linear'))\n",
    "model.compile(loss = \"mse\", optimizer = opt , metrics=['mae'])\n"
   ]
  },
  {
   "cell_type": "code",
   "execution_count": 47,
   "id": "f8a7a978-5732-401c-b543-2ff6ecedf20a",
   "metadata": {},
   "outputs": [
    {
     "name": "stdout",
     "output_type": "stream",
     "text": [
      "Epoch 1/50\n",
      "63/63 [==============================] - 0s 3ms/step - loss: 0.1105 - mae: 0.2363 - val_loss: 0.0669 - val_mae: 0.1754\n",
      "Epoch 2/50\n",
      "63/63 [==============================] - 0s 2ms/step - loss: 0.0543 - mae: 0.1650 - val_loss: 0.0387 - val_mae: 0.1282\n",
      "Epoch 3/50\n",
      "63/63 [==============================] - 0s 1ms/step - loss: 0.0358 - mae: 0.1348 - val_loss: 0.0271 - val_mae: 0.1036\n",
      "Epoch 4/50\n",
      "63/63 [==============================] - 0s 1ms/step - loss: 0.0278 - mae: 0.1184 - val_loss: 0.0216 - val_mae: 0.0894\n",
      "Epoch 5/50\n",
      "63/63 [==============================] - 0s 1ms/step - loss: 0.0233 - mae: 0.1076 - val_loss: 0.0188 - val_mae: 0.0806\n",
      "Epoch 6/50\n",
      "63/63 [==============================] - 0s 1ms/step - loss: 0.0211 - mae: 0.1017 - val_loss: 0.0172 - val_mae: 0.0750\n",
      "Epoch 7/50\n",
      "63/63 [==============================] - 0s 1ms/step - loss: 0.0196 - mae: 0.0967 - val_loss: 0.0163 - val_mae: 0.0713\n",
      "Epoch 8/50\n",
      "63/63 [==============================] - 0s 2ms/step - loss: 0.0185 - mae: 0.0937 - val_loss: 0.0158 - val_mae: 0.0688\n",
      "Epoch 9/50\n",
      "63/63 [==============================] - 0s 1ms/step - loss: 0.0175 - mae: 0.0904 - val_loss: 0.0154 - val_mae: 0.0669\n",
      "Epoch 10/50\n",
      "63/63 [==============================] - 0s 2ms/step - loss: 0.0170 - mae: 0.0885 - val_loss: 0.0151 - val_mae: 0.0658\n",
      "Epoch 11/50\n",
      "63/63 [==============================] - 0s 2ms/step - loss: 0.0164 - mae: 0.0867 - val_loss: 0.0150 - val_mae: 0.0648\n",
      "Epoch 12/50\n",
      "63/63 [==============================] - 0s 2ms/step - loss: 0.0159 - mae: 0.0850 - val_loss: 0.0148 - val_mae: 0.0642\n",
      "Epoch 13/50\n",
      "63/63 [==============================] - 0s 2ms/step - loss: 0.0155 - mae: 0.0833 - val_loss: 0.0146 - val_mae: 0.0634\n",
      "Epoch 14/50\n",
      "63/63 [==============================] - 0s 2ms/step - loss: 0.0150 - mae: 0.0815 - val_loss: 0.0145 - val_mae: 0.0627\n",
      "Epoch 15/50\n",
      "63/63 [==============================] - 0s 2ms/step - loss: 0.0148 - mae: 0.0809 - val_loss: 0.0144 - val_mae: 0.0623\n",
      "Epoch 16/50\n",
      "63/63 [==============================] - 0s 2ms/step - loss: 0.0145 - mae: 0.0799 - val_loss: 0.0143 - val_mae: 0.0617\n",
      "Epoch 17/50\n",
      "63/63 [==============================] - 0s 1ms/step - loss: 0.0143 - mae: 0.0786 - val_loss: 0.0142 - val_mae: 0.0614\n",
      "Epoch 18/50\n",
      "63/63 [==============================] - 0s 1ms/step - loss: 0.0141 - mae: 0.0779 - val_loss: 0.0142 - val_mae: 0.0610\n",
      "Epoch 19/50\n",
      "63/63 [==============================] - 0s 1ms/step - loss: 0.0137 - mae: 0.0762 - val_loss: 0.0141 - val_mae: 0.0606\n",
      "Epoch 20/50\n",
      "63/63 [==============================] - 0s 1ms/step - loss: 0.0135 - mae: 0.0757 - val_loss: 0.0140 - val_mae: 0.0602\n",
      "Epoch 21/50\n",
      "63/63 [==============================] - 0s 2ms/step - loss: 0.0134 - mae: 0.0753 - val_loss: 0.0140 - val_mae: 0.0599\n",
      "Epoch 22/50\n",
      "63/63 [==============================] - 0s 2ms/step - loss: 0.0129 - mae: 0.0738 - val_loss: 0.0139 - val_mae: 0.0595\n",
      "Epoch 23/50\n",
      "63/63 [==============================] - 0s 2ms/step - loss: 0.0128 - mae: 0.0731 - val_loss: 0.0138 - val_mae: 0.0592\n",
      "Epoch 24/50\n",
      "63/63 [==============================] - 0s 2ms/step - loss: 0.0126 - mae: 0.0718 - val_loss: 0.0137 - val_mae: 0.0588\n",
      "Epoch 25/50\n",
      "63/63 [==============================] - 0s 2ms/step - loss: 0.0123 - mae: 0.0706 - val_loss: 0.0137 - val_mae: 0.0584\n",
      "Epoch 26/50\n",
      "63/63 [==============================] - 0s 1ms/step - loss: 0.0122 - mae: 0.0703 - val_loss: 0.0136 - val_mae: 0.0580\n",
      "Epoch 27/50\n",
      "63/63 [==============================] - 0s 1ms/step - loss: 0.0121 - mae: 0.0696 - val_loss: 0.0136 - val_mae: 0.0577\n",
      "Epoch 28/50\n",
      "63/63 [==============================] - 0s 1ms/step - loss: 0.0119 - mae: 0.0689 - val_loss: 0.0135 - val_mae: 0.0574\n",
      "Epoch 29/50\n",
      "63/63 [==============================] - 0s 1ms/step - loss: 0.0117 - mae: 0.0678 - val_loss: 0.0134 - val_mae: 0.0571\n",
      "Epoch 30/50\n",
      "63/63 [==============================] - 0s 2ms/step - loss: 0.0115 - mae: 0.0670 - val_loss: 0.0134 - val_mae: 0.0569\n",
      "Epoch 31/50\n",
      "63/63 [==============================] - 0s 2ms/step - loss: 0.0115 - mae: 0.0667 - val_loss: 0.0133 - val_mae: 0.0565\n",
      "Epoch 32/50\n",
      "63/63 [==============================] - 0s 2ms/step - loss: 0.0113 - mae: 0.0660 - val_loss: 0.0133 - val_mae: 0.0561\n",
      "Epoch 33/50\n",
      "63/63 [==============================] - 0s 2ms/step - loss: 0.0112 - mae: 0.0655 - val_loss: 0.0132 - val_mae: 0.0559\n",
      "Epoch 34/50\n",
      "63/63 [==============================] - 0s 2ms/step - loss: 0.0111 - mae: 0.0651 - val_loss: 0.0132 - val_mae: 0.0557\n",
      "Epoch 35/50\n",
      "63/63 [==============================] - 0s 2ms/step - loss: 0.0110 - mae: 0.0646 - val_loss: 0.0131 - val_mae: 0.0555\n",
      "Epoch 36/50\n",
      "63/63 [==============================] - 0s 1ms/step - loss: 0.0108 - mae: 0.0635 - val_loss: 0.0131 - val_mae: 0.0552\n",
      "Epoch 37/50\n",
      "63/63 [==============================] - 0s 1ms/step - loss: 0.0108 - mae: 0.0632 - val_loss: 0.0130 - val_mae: 0.0549\n",
      "Epoch 38/50\n",
      "63/63 [==============================] - 0s 1ms/step - loss: 0.0106 - mae: 0.0628 - val_loss: 0.0130 - val_mae: 0.0546\n",
      "Epoch 39/50\n",
      "63/63 [==============================] - 0s 1ms/step - loss: 0.0106 - mae: 0.0627 - val_loss: 0.0129 - val_mae: 0.0545\n",
      "Epoch 40/50\n",
      "63/63 [==============================] - 0s 1ms/step - loss: 0.0105 - mae: 0.0618 - val_loss: 0.0129 - val_mae: 0.0541\n",
      "Epoch 41/50\n",
      "63/63 [==============================] - 0s 1ms/step - loss: 0.0102 - mae: 0.0609 - val_loss: 0.0129 - val_mae: 0.0539\n",
      "Epoch 42/50\n",
      "63/63 [==============================] - 0s 2ms/step - loss: 0.0102 - mae: 0.0609 - val_loss: 0.0128 - val_mae: 0.0537\n",
      "Epoch 43/50\n",
      "63/63 [==============================] - 0s 2ms/step - loss: 0.0100 - mae: 0.0602 - val_loss: 0.0128 - val_mae: 0.0534\n",
      "Epoch 44/50\n",
      "63/63 [==============================] - 0s 2ms/step - loss: 0.0100 - mae: 0.0599 - val_loss: 0.0127 - val_mae: 0.0532\n",
      "Epoch 45/50\n",
      "63/63 [==============================] - 0s 2ms/step - loss: 0.0100 - mae: 0.0595 - val_loss: 0.0127 - val_mae: 0.0530\n",
      "Epoch 46/50\n",
      "63/63 [==============================] - 0s 2ms/step - loss: 0.0099 - mae: 0.0590 - val_loss: 0.0126 - val_mae: 0.0527\n",
      "Epoch 47/50\n",
      "63/63 [==============================] - 0s 1ms/step - loss: 0.0098 - mae: 0.0587 - val_loss: 0.0126 - val_mae: 0.0526\n",
      "Epoch 48/50\n",
      "63/63 [==============================] - 0s 2ms/step - loss: 0.0098 - mae: 0.0584 - val_loss: 0.0126 - val_mae: 0.0522\n",
      "Epoch 49/50\n",
      "63/63 [==============================] - 0s 1ms/step - loss: 0.0096 - mae: 0.0577 - val_loss: 0.0125 - val_mae: 0.0521\n",
      "Epoch 50/50\n",
      "63/63 [==============================] - 0s 2ms/step - loss: 0.0096 - mae: 0.0576 - val_loss: 0.0125 - val_mae: 0.0519\n"
     ]
    }
   ],
   "source": [
    "history=model.fit(X_train, y_train, epochs=50,validation_split=0.05)"
   ]
  },
  {
   "cell_type": "code",
   "execution_count": 48,
   "id": "4314a436-c22c-4c03-8eb9-b54c1b2d77f0",
   "metadata": {},
   "outputs": [
    {
     "data": {
      "text/plain": [
       "<function matplotlib.pyplot.show(close=None, block=None)>"
      ]
     },
     "execution_count": 48,
     "metadata": {},
     "output_type": "execute_result"
    },
    {
     "data": {
      "image/png": "[encoded data removed]",
      "text/plain": [
       "<Figure size 432x288 with 1 Axes>"
      ]
     },
     "metadata": {
      "needs_background": "light"
     },
     "output_type": "display_data"
    }
   ],
   "source": [
    "loss=history.history['loss']\n",
    "val_loss=history.history['val_loss']\n",
    "epochs= range(1,len(loss)+1)\n",
    "plt.plot(epochs, loss, 'y',label='Training Loss')\n",
    "plt.plot(epochs, val_loss, 'r', label='Validation loss')\n",
    "plt.title('Training and validation loss')\n",
    "plt.xlabel('Epochs')\n",
    "plt.ylabel('Loss')\n",
    "plt.legend()\n",
    "plt.savefig('Loss_for_wave8_output.png')\n",
    "plt.show"
   ]
  },
  {
   "cell_type": "code",
   "execution_count": 49,
   "id": "2e01989c-9c83-44df-9b40-0976471987ec",
   "metadata": {},
   "outputs": [],
   "source": [
    "y_pred = model.predict(X_test)"
   ]
  },
  {
   "cell_type": "code",
   "execution_count": 50,
   "id": "b15cc0c1-abf4-4206-9444-30f4a494e341",
   "metadata": {},
   "outputs": [
    {
     "name": "stdout",
     "output_type": "stream",
     "text": [
      "MSE: 0.008\n",
      "MAE: 0.047\n",
      "MAPE: 807357743585.074\n",
      "r2: -0.180\n",
      "adjr2: -0.182\n"
     ]
    }
   ],
   "source": [
    "from sklearn.metrics import mean_absolute_error, r2_score, mean_absolute_percentage_error,mean_squared_error\n",
    "mse=mean_squared_error(y_test,y_pred)\n",
    "mae = mean_absolute_error(y_test,y_pred)\n",
    "mape = mean_absolute_percentage_error(y_test,y_pred)\n",
    "r2=r2_score(y_test,y_pred)\n",
    "adjr2=1-(((1-r2)*(len(y)-1))/((len(y)-X.shape[1]-1)))\n",
    "print('MSE: %.3f' % mse)\n",
    "print('MAE: %.3f' % mae)\n",
    "print('MAPE: %.3f' % mape)\n",
    "print('r2: %.3f' % r2)\n",
    "print('adjr2: %.3f' % adjr2)"
   ]
  },
  {
   "cell_type": "code",
   "execution_count": null,
   "id": "d63675cb-779e-40fb-b0a4-89809216d1d5",
   "metadata": {},
   "outputs": [],
   "source": []
  }
 ],
 "metadata": {
  "kernelspec": {
   "display_name": "Python 3 (ipykernel)",
   "language": "python",
   "name": "python3"
  },
  "language_info": {
   "codemirror_mode": {
    "name": "ipython",
    "version": 3
   },
   "file_extension": ".py",
   "mimetype": "text/x-python",
   "name": "python",
   "nbconvert_exporter": "python",
   "pygments_lexer": "ipython3",
   "version": "3.9.7"
  }
 },
 "nbformat": 4,
 "nbformat_minor": 5
}
