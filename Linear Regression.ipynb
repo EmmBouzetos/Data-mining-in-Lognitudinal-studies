{
 "cells": [
  {
   "cell_type": "code",
   "execution_count": 1,
   "id": "e66d5676-31e4-48f0-95be-8a4fd7da2a39",
   "metadata": {},
   "outputs": [],
   "source": [
    "from sklearn.datasets import make_regression\n",
    "from sklearn.model_selection import train_test_split\n",
    "from sklearn.feature_selection import SelectKBest\n",
    "from sklearn.feature_selection import f_regression\n",
    "from sklearn.linear_model import LinearRegression\n",
    "from sklearn.metrics import mean_absolute_error, r2_score, mean_absolute_percentage_error,mean_squared_error\n",
    "import pandas as pd"
   ]
  },
  {
   "cell_type": "code",
   "execution_count": 2,
   "id": "56cd6d47-c271-4cab-8870-787e3777c880",
   "metadata": {},
   "outputs": [],
   "source": [
    "dataset = pd.read_csv (r'C:\\Users\\Manos\\OneDrive/Thesis Final/LSTM/all_nurse_with_FI_imputed.tab',sep='\\t',low_memory=False)"
   ]
  },
  {
   "cell_type": "code",
   "execution_count": 3,
   "id": "e35b5f64-86ed-407f-82eb-02a37e1f973b",
   "metadata": {},
   "outputs": [],
   "source": [
    "X=dataset.iloc[:,1:-1]  #we dont select idauniq\n",
    "y=dataset.iloc[:,-1]\n",
    "from sklearn.model_selection import train_test_split\n",
    "X_train, X_test, y_train, y_test= train_test_split(X, y, random_state=32)"
   ]
  },
  {
   "cell_type": "code",
   "execution_count": 5,
   "id": "d891e0e6-8c5d-49f9-964b-73562c7a5fe6",
   "metadata": {},
   "outputs": [
    {
     "name": "stdout",
     "output_type": "stream",
     "text": [
      "MSE: 0.014\n",
      "MAE: 0.086\n",
      "MAPE: 1.694\n",
      "r2: -3.016\n",
      "adjr2: -3.019\n"
     ]
    }
   ],
   "source": [
    "# fit the model\n",
    "model = LinearRegression()\n",
    "model.fit(X_train, y_train)\n",
    "# evaluate the model\n",
    "yhat = model.predict(X_test)\n",
    "# evaluate predictions\n",
    "mse=mean_squared_error(yhat,y_test)\n",
    "mae = mean_absolute_error(yhat,y_test)\n",
    "mape = mean_absolute_percentage_error(yhat,y_test)\n",
    "r2=r2_score(yhat,y_test)\n",
    "adjr2=1-(((1-r2)*(len(y)-1))/((len(y)-X.shape[1]-1)))\n",
    "print('MSE: %.3f' % mse)\n",
    "print('MAE: %.3f' % mae)\n",
    "print('MAPE: %.3f' % mape)\n",
    "print('r2: %.3f' % r2)\n",
    "print('adjr2: %.3f' % adjr2)\n"
   ]
  },
  {
   "cell_type": "code",
   "execution_count": null,
   "id": "04cf74b6-b0b3-41dd-a113-8c788ae21b6d",
   "metadata": {},
   "outputs": [],
   "source": [
    "LSTM_prediction=pd.read_csv (r'C:\\Users\\Manos\\Desktop\\Lstm Prediction',sep='\\t',low_memory=False)\n",
    "FI_from_LSTM=model.predict(LSTM_prediction.iloc[:,1:])#"
   ]
  },
  {
   "cell_type": "code",
   "execution_count": null,
   "id": "f624d201-ef44-4f63-9679-5d4b74d561a3",
   "metadata": {},
   "outputs": [],
   "source": [
    "FI_from_LSTM= pd.DataFrame(FI_from_LSTM, columns = ['FI'])\n",
    "FI_from_LSTM.insert(0,'idauniq',LSTM_prediction.iloc[:,0])\n",
    "FI_from_LSTM.to_csv(r'C:\\Users\\Manos\\Desktop\\LR_FI_LSTM',sep='\\t',index=False)"
   ]
  },
  {
   "cell_type": "code",
   "execution_count": null,
   "id": "934f4ea0-761b-4881-a209-ad63bc78740f",
   "metadata": {},
   "outputs": [],
   "source": []
  }
 ],
 "metadata": {
  "kernelspec": {
   "display_name": "Python 3 (ipykernel)",
   "language": "python",
   "name": "python3"
  },
  "language_info": {
   "codemirror_mode": {
    "name": "ipython",
    "version": 3
   },
   "file_extension": ".py",
   "mimetype": "text/x-python",
   "name": "python",
   "nbconvert_exporter": "python",
   "pygments_lexer": "ipython3",
   "version": "3.9.7"
  }
 },
 "nbformat": 4,
 "nbformat_minor": 5
}
